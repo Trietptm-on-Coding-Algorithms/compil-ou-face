{
 "cells": [
  {
   "cell_type": "markdown",
   "metadata": {
    "slideshow": {
     "slide_type": "slide"
    }
   },
   "source": [
    "Compil ou Face\n",
    "========\n",
    "\n",
    "Notions de compilation pour le reverseur\n",
    "--------------------------------------------\n",
    "\n",
    "par *Serge Guelton*☘ et *Adrien Guinet*⚽\n",
    "\n",
    "☘ ``sguelton@quarkslab.com``\n",
    "\n",
    "⚽ ``aguinet@quarkslab.com``"
   ]
  },
  {
   "cell_type": "markdown",
   "metadata": {
    "slideshow": {
     "slide_type": "subslide"
    }
   },
   "source": [
    "``man sguelton``\n",
    "=========\n",
    "\n",
    "- Ingénieur R&D à Quarkslab, spécialisé en compilation (Python, LLVM)\n",
    "- Chercheur associé à Télécom Bretagne\n",
    "\n",
    "``man aguinet``\n",
    "=========\n",
    "\n",
    "- Ingénieur R&D à Quarkslab, spécialisé en tout"
   ]
  },
  {
   "cell_type": "markdown",
   "metadata": {
    "slideshow": {
     "slide_type": "subslide"
    }
   },
   "source": [
    "Ce Cours (il est long)\n",
    "============\n",
    "\n",
    "- Connaitre sa chaîne de compilation\n",
    "- Connaître son compilo\n",
    "- Comprendre quelques transformations et analyse\n",
    "\n",
    "Cours et TP entrelacés"
   ]
  },
  {
   "cell_type": "markdown",
   "metadata": {
    "slideshow": {
     "slide_type": "subslide"
    }
   },
   "source": [
    "Intérêt pour le reverser\n",
    "=============\n",
    "\n",
    "- Mieux comprendre le code généré\n",
    "- Billes de compréhension pour écrire des outils d'analyse\n",
    "- Culture G"
   ]
  },
  {
   "cell_type": "markdown",
   "metadata": {
    "collapsed": true,
    "slideshow": {
     "slide_type": "slide"
    }
   },
   "source": [
    "Chaîne de compilation classique\n",
    "=================\n",
    "\n",
    "```\n",
    "\n",
    "a.c -- a.o --\n",
    "             :-- a.out \n",
    "b.c -- b.o --\n",
    "```"
   ]
  },
  {
   "cell_type": "code",
   "execution_count": null,
   "metadata": {
    "collapsed": false,
    "slideshow": {
     "slide_type": "fragment"
    }
   },
   "outputs": [],
   "source": [
    "%%file a.c\n",
    "#include <stdio.h>\n",
    "void greet(char const* who) {\n",
    "    printf(\"Hello %s!\\n\", who);\n",
    "}"
   ]
  },
  {
   "cell_type": "code",
   "execution_count": null,
   "metadata": {
    "collapsed": false,
    "slideshow": {
     "slide_type": "fragment"
    }
   },
   "outputs": [],
   "source": [
    "%%file b.c\n",
    "extern void greet(char const* who);\n",
    "int main(int argc, char const* argv[]) {\n",
    "    if(argc == 1) greet(\"world\");\n",
    "    else greet(argv[1]);\n",
    "    return 0;\n",
    "}"
   ]
  },
  {
   "cell_type": "code",
   "execution_count": null,
   "metadata": {
    "collapsed": false,
    "slideshow": {
     "slide_type": "fragment"
    }
   },
   "outputs": [],
   "source": [
    "%%!\n",
    "clang-3.7 a.c b.c\n",
    "./a.out $USER"
   ]
  },
  {
   "cell_type": "markdown",
   "metadata": {
    "slideshow": {
     "slide_type": "subslide"
    }
   },
   "source": [
    "Pas à Pas : Préprocesseur\n",
    "==============\n",
    "\n",
    "*a.k.a.* « le sed du pauvre »"
   ]
  },
  {
   "cell_type": "code",
   "execution_count": null,
   "metadata": {
    "collapsed": false,
    "slideshow": {
     "slide_type": "fragment"
    }
   },
   "outputs": [],
   "source": [
    "!clang-3.7 -E a.c | wc -l"
   ]
  },
  {
   "cell_type": "code",
   "execution_count": null,
   "metadata": {
    "collapsed": false,
    "slideshow": {
     "slide_type": "fragment"
    }
   },
   "outputs": [],
   "source": [
    "!clang-3.7 -E a.c | head -n 10"
   ]
  },
  {
   "cell_type": "markdown",
   "metadata": {
    "slideshow": {
     "slide_type": "subslide"
    }
   },
   "source": [
    "Pas à Pas : La Représentation Interne\n",
    "=====================\n",
    "\n",
    "Généralement pas exposée à l'utilisateur…"
   ]
  },
  {
   "cell_type": "code",
   "execution_count": null,
   "metadata": {
    "collapsed": false,
    "slideshow": {
     "slide_type": "fragment"
    }
   },
   "outputs": [],
   "source": [
    "!clang-3.7 -S -emit-llvm a.c\n",
    "!head -n 16 a.ll"
   ]
  },
  {
   "cell_type": "markdown",
   "metadata": {
    "slideshow": {
     "slide_type": "subslide"
    }
   },
   "source": [
    "Pas à Pas : La transformation de RI (olé !)\n",
    "====================\n",
    "\n",
    "Ce qui se cache derrière ``-O2`` et consorts"
   ]
  },
  {
   "cell_type": "code",
   "execution_count": null,
   "metadata": {
    "collapsed": false,
    "slideshow": {
     "slide_type": "fragment"
    }
   },
   "outputs": [],
   "source": [
    "!opt-3.7 -mem2reg a.ll -S | head -n 10"
   ]
  },
  {
   "cell_type": "markdown",
   "metadata": {
    "slideshow": {
     "slide_type": "subslide"
    }
   },
   "source": [
    "Pas à Pas : La génération de code assembleur\n",
    "========================\n",
    "\n",
    "Avec la bonne variante syntaxique…"
   ]
  },
  {
   "cell_type": "code",
   "execution_count": null,
   "metadata": {
    "collapsed": false,
    "slideshow": {
     "slide_type": "fragment"
    }
   },
   "outputs": [],
   "source": [
    "!llc-3.7 a.ll --x86-asm-syntax=intel\n",
    "!head -n 23 a.s | tail -n 10"
   ]
  },
  {
   "cell_type": "markdown",
   "metadata": {
    "slideshow": {
     "slide_type": "fragment"
    }
   },
   "source": [
    "Ou plus simplement :\n",
    "\n"
   ]
  },
  {
   "cell_type": "code",
   "execution_count": null,
   "metadata": {
    "collapsed": true
   },
   "outputs": [],
   "source": [
    "!clang-3.7 -S  a.c #-masm=intel if needed"
   ]
  },
  {
   "cell_type": "markdown",
   "metadata": {
    "slideshow": {
     "slide_type": "subslide"
    }
   },
   "source": [
    "Pas à Pas : L'assemblage\n",
    "==============\n",
    "\n",
    "Génération de code objet, ou ``.o``"
   ]
  },
  {
   "cell_type": "code",
   "execution_count": null,
   "metadata": {
    "collapsed": false,
    "slideshow": {
     "slide_type": "fragment"
    }
   },
   "outputs": [],
   "source": [
    "!as a.s -o a.o\n",
    "!file a.o"
   ]
  },
  {
   "cell_type": "markdown",
   "metadata": {
    "slideshow": {
     "slide_type": "subslide"
    }
   },
   "source": [
    "Pas à Pas : L'édition de liens\n",
    "=================\n",
    "\n",
    "Le *linker*, les libs statiques, les lib dynamiques…"
   ]
  },
  {
   "cell_type": "code",
   "execution_count": null,
   "metadata": {
    "collapsed": true,
    "slideshow": {
     "slide_type": "fragment"
    }
   },
   "outputs": [],
   "source": [
    "!clang-3.7 -c b.c # pour avoir le deuxième code objet"
   ]
  },
  {
   "cell_type": "code",
   "execution_count": null,
   "metadata": {
    "collapsed": false,
    "slideshow": {
     "slide_type": "fragment"
    }
   },
   "outputs": [],
   "source": [
    "!nm b.o | grep greet"
   ]
  },
  {
   "cell_type": "code",
   "execution_count": null,
   "metadata": {
    "collapsed": false,
    "slideshow": {
     "slide_type": "fragment"
    }
   },
   "outputs": [],
   "source": [
    "!nm a.o | grep greet\n",
    "!nm a.o | grep printf"
   ]
  },
  {
   "cell_type": "code",
   "execution_count": null,
   "metadata": {
    "collapsed": false,
    "slideshow": {
     "slide_type": "subslide"
    }
   },
   "outputs": [],
   "source": [
    "!ldd /bin/ls | grep libc.so"
   ]
  },
  {
   "cell_type": "code",
   "execution_count": null,
   "metadata": {
    "collapsed": false,
    "slideshow": {
     "slide_type": "fragment"
    }
   },
   "outputs": [],
   "source": [
    "!nm /lib/x86_64-linux-gnu/libc.so.6 | grep printf"
   ]
  },
  {
   "cell_type": "code",
   "execution_count": null,
   "metadata": {
    "collapsed": false,
    "slideshow": {
     "slide_type": "fragment"
    }
   },
   "outputs": [],
   "source": [
    "!file -L /lib/x86_64-linux-gnu/libc.so.6"
   ]
  },
  {
   "cell_type": "code",
   "execution_count": null,
   "metadata": {
    "collapsed": false,
    "slideshow": {
     "slide_type": "fragment"
    }
   },
   "outputs": [],
   "source": [
    "!readelf -s /lib/x86_64-linux-gnu/libc.so.6 | grep ' printf'"
   ]
  },
  {
   "cell_type": "markdown",
   "metadata": {
    "slideshow": {
     "slide_type": "subslide"
    }
   },
   "source": [
    "Pas à Pas : l'exécutable\n",
    "==============\n",
    "\n",
    "Pour pondre un joli petit ``a.out`` tout mignon"
   ]
  },
  {
   "cell_type": "code",
   "execution_count": null,
   "metadata": {
    "collapsed": false,
    "slideshow": {
     "slide_type": "fragment"
    }
   },
   "outputs": [],
   "source": [
    "! ld a.o b.o && ./a.out"
   ]
  },
  {
   "cell_type": "code",
   "execution_count": null,
   "metadata": {
    "collapsed": false,
    "slideshow": {
     "slide_type": "fragment"
    }
   },
   "outputs": [],
   "source": [
    "! ld a.o b.o -lc && file a.out && ./a.out"
   ]
  },
  {
   "cell_type": "code",
   "execution_count": null,
   "metadata": {
    "collapsed": false,
    "slideshow": {
     "slide_type": "subslide"
    }
   },
   "outputs": [],
   "source": [
    "! clang-3.7 -v a.o b.o 2>&1 | grep ld"
   ]
  },
  {
   "cell_type": "code",
   "execution_count": null,
   "metadata": {
    "collapsed": false,
    "slideshow": {
     "slide_type": "fragment"
    }
   },
   "outputs": [],
   "source": [
    "! ./a.out"
   ]
  },
  {
   "cell_type": "markdown",
   "metadata": {
    "slideshow": {
     "slide_type": "slide"
    }
   },
   "source": [
    "Comprendre l'*Abstract Syntax Tree*\n",
    "===================\n",
    "\n",
    "Jouons avec Python et son AST, plus facile que celui de C++"
   ]
  },
  {
   "cell_type": "code",
   "execution_count": null,
   "metadata": {
    "collapsed": false,
    "slideshow": {
     "slide_type": "fragment"
    }
   },
   "outputs": [],
   "source": [
    "import ast\n",
    "tree = ast.parse(\"print(1)\")\n",
    "print(tree)"
   ]
  },
  {
   "cell_type": "code",
   "execution_count": null,
   "metadata": {
    "collapsed": false,
    "slideshow": {
     "slide_type": "fragment"
    }
   },
   "outputs": [],
   "source": [
    "ast.dump(tree)"
   ]
  },
  {
   "cell_type": "code",
   "execution_count": null,
   "metadata": {
    "collapsed": false,
    "slideshow": {
     "slide_type": "fragment"
    }
   },
   "outputs": [],
   "source": [
    "import astdump\n",
    "astdump.indented(tree)"
   ]
  },
  {
   "cell_type": "markdown",
   "metadata": {
    "collapsed": true,
    "slideshow": {
     "slide_type": "subslide"
    }
   },
   "source": [
    "Compilation de l'AST\n",
    "===========\n",
    "\n",
    "Passage d'une représentation proche du langage à une représentation proche de l'interpréteur."
   ]
  },
  {
   "cell_type": "code",
   "execution_count": null,
   "metadata": {
    "collapsed": true,
    "slideshow": {
     "slide_type": "fragment"
    }
   },
   "outputs": [],
   "source": [
    "code = compile(tree, '<>', 'exec')"
   ]
  },
  {
   "cell_type": "code",
   "execution_count": null,
   "metadata": {
    "collapsed": false,
    "slideshow": {
     "slide_type": "fragment"
    }
   },
   "outputs": [],
   "source": [
    "eval(code)"
   ]
  },
  {
   "cell_type": "markdown",
   "metadata": {
    "slideshow": {
     "slide_type": "subslide"
    }
   },
   "source": [
    "Inspection du bytecode\n",
    "=============\n",
    "\n",
    "CPython → Interpréteur à pile"
   ]
  },
  {
   "cell_type": "code",
   "execution_count": null,
   "metadata": {
    "collapsed": false
   },
   "outputs": [],
   "source": [
    "import dis\n",
    "dis.dis(code)"
   ]
  },
  {
   "cell_type": "markdown",
   "metadata": {
    "slideshow": {
     "slide_type": "subslide"
    }
   },
   "source": [
    "``(`` Aparté\n",
    "========\n",
    "\n",
    "D'après vous, quels sont les avantages et inconvénients d'une interpréteur à pile par rapport à un interpréteur à registre?"
   ]
  },
  {
   "cell_type": "markdown",
   "metadata": {
    "slideshow": {
     "slide_type": "fragment"
    }
   },
   "source": [
    "Interpréteur à pile\n",
    "----------------------\n",
    "\n",
    "Facile de conception, peu d'optimisations"
   ]
  },
  {
   "cell_type": "markdown",
   "metadata": {
    "slideshow": {
     "slide_type": "fragment"
    }
   },
   "source": [
    "Interpréteur à registre\n",
    "--------------------------\n",
    "\n",
    "Plus complexe (et pas seulement pour l'allocation de registre) mais permet de modéliser plus d'optimisations"
   ]
  },
  {
   "cell_type": "markdown",
   "metadata": {
    "slideshow": {
     "slide_type": "subslide"
    }
   },
   "source": [
    "Game of Stack\n",
    "=======\n",
    "\n",
    "Écrire un interpréteur (dans le langage de votre choix) qui comprend les instructions suivantes :\n",
    "\n",
    "- ``PUSH <integer>`` qui ajoute ``<integer>`` au dessus de la pile\n",
    "- ``DUP`` qui duplique le dessus de la pile\n",
    "- ``ADD`` qui enlève les deux premiers éléments de la pile et ajoute ``S[0] + S[1]`` au dessus de la pile\n",
    "- ``MUL`` qui enlève les deux premiers éléments de la pile et ajoute ``S[0] * S[1]`` au dessus de la pile\n",
    "- ``READ`` qui lit un entier sur ``stdin`` et l'ajoute au dessus de la pile\n",
    "- ``WRITE`` qui dépile le premier élément de la pile et l'affiche sudr ``stdout``\n"
   ]
  },
  {
   "cell_type": "markdown",
   "metadata": {
    "slideshow": {
     "slide_type": "subslide"
    }
   },
   "source": [
    "Par exemple :\n",
    "\n",
    "```\n",
    "0 READ\n",
    "1 DUP\n",
    "2 ADD\n",
    "3 WRITE\n",
    "```\n"
   ]
  },
  {
   "cell_type": "markdown",
   "metadata": {
    "slideshow": {
     "slide_type": "subslide"
    }
   },
   "source": [
    "Introduisons maintenant une optmisation (de ouf !). Les deux séquences suivantes sont équivalentes :\n",
    "\n",
    "```\n",
    "PUSH 2\n",
    "MUL\n",
    "```\n",
    "\n",
    "et\n",
    "\n",
    "```\n",
    "DUP\n",
    "ADD\n",
    "```\n",
    "\n",
    "Ajoutez à votre interpréteur une passe qui effectue de qui s'avère être une *peephole optimisation* en transformant l'une en l'autre.\n"
   ]
  },
  {
   "cell_type": "markdown",
   "metadata": {
    "slideshow": {
     "slide_type": "subslide"
    }
   },
   "source": [
    "Fin de l'aparté ``)``\n",
    "=========="
   ]
  },
  {
   "cell_type": "markdown",
   "metadata": {
    "slideshow": {
     "slide_type": "subslide"
    }
   },
   "source": [
    "Continuons à jouer avec l'AST\n",
    "================\n",
    "\n",
    "L'AST Python peut être parcouru grâce à un **visiteur** (qui n'est pas né d'hier)\n",
    "\n",
    "À lire : https://docs.python.org/3/library/ast.html"
   ]
  },
  {
   "cell_type": "code",
   "execution_count": null,
   "metadata": {
    "collapsed": false
   },
   "outputs": [],
   "source": [
    "class VisitIntegers(ast.NodeVisitor):\n",
    "    def visit_Num(self, node):\n",
    "        if isinstance(node.n, int):\n",
    "            print(node.n)\n",
    "\n",
    "VisitIntegers().visit(tree)"
   ]
  },
  {
   "cell_type": "markdown",
   "metadata": {
    "slideshow": {
     "slide_type": "subslide"
    }
   },
   "source": [
    "Exo\n",
    "===\n",
    "\n",
    "Écrivez un visiteur qui va trouver tous les appels à la fonction ``open``"
   ]
  },
  {
   "cell_type": "markdown",
   "metadata": {
    "slideshow": {
     "slide_type": "fragment"
    }
   },
   "source": [
    "Pourquoi est-ce en fait impossible en analyse statique ?"
   ]
  },
  {
   "cell_type": "markdown",
   "metadata": {
    "slideshow": {
     "slide_type": "subslide"
    }
   },
   "source": [
    "En instrumentant\n",
    "=========\n",
    "\n",
    "Une sorte d'analyse dynamique ?"
   ]
  },
  {
   "cell_type": "code",
   "execution_count": null,
   "metadata": {
    "collapsed": false,
    "slideshow": {
     "slide_type": "fragment"
    }
   },
   "outputs": [],
   "source": [
    "import builtins\n",
    "real_open = builtins.open\n",
    "def myopen(*args, **kwargs):\n",
    "    print(args, kwargs)\n",
    "    return real_open(*args, **kwargs)\n",
    "builtins.open = myopen\n",
    "open(\"/dev/null\")"
   ]
  },
  {
   "cell_type": "code",
   "execution_count": null,
   "metadata": {
    "collapsed": true,
    "slideshow": {
     "slide_type": "fragment"
    }
   },
   "outputs": [],
   "source": [
    "builtins.open = real_open"
   ]
  },
  {
   "cell_type": "markdown",
   "metadata": {
    "slideshow": {
     "slide_type": "slide"
    }
   },
   "source": [
    "Comprendre la Représentation Interne (IR dans la langue de Homer)\n",
    "=======================\n",
    "\n",
    "En se basant sur celle de LLVM.\n",
    "\n",
    "Étudions plus précisément la sortie de clang sur un code simple :"
   ]
  },
  {
   "cell_type": "code",
   "execution_count": null,
   "metadata": {
    "collapsed": false,
    "slideshow": {
     "slide_type": "fragment"
    }
   },
   "outputs": [],
   "source": [
    "%%file mask.c\n",
    "void mask(unsigned n, int data[n], int mask) {\n",
    "    for(unsigned i = 0; i < n; ++i)\n",
    "        data[i] ^= mask;\n",
    "}"
   ]
  },
  {
   "cell_type": "code",
   "execution_count": null,
   "metadata": {
    "collapsed": false,
    "slideshow": {
     "slide_type": "subslide"
    }
   },
   "outputs": [],
   "source": [
    "! clang-3.7 -O1 -S -emit-llvm -o - mask.c | sed -n '6,18 p'"
   ]
  },
  {
   "cell_type": "markdown",
   "metadata": {
    "slideshow": {
     "slide_type": "subslide"
    }
   },
   "source": [
    "Représentation Hiérarchique\n",
    "===============\n",
    "\n",
    "Un Module contient :\n",
    "- des variables globales\n",
    "- des fonctions\n",
    "- des métadonnées"
   ]
  },
  {
   "cell_type": "markdown",
   "metadata": {
    "slideshow": {
     "slide_type": "subslide"
    }
   },
   "source": [
    "Représentation Hiérarchique\n",
    "===============\n",
    "\n",
    "Une fonction contient des blocs de base…\n",
    "\n",
    "Qui contiennent des instructions…\n",
    "\n",
    "Qui finissent par un…"
   ]
  },
  {
   "cell_type": "markdown",
   "metadata": {
    "slideshow": {
     "slide_type": "subslide"
    }
   },
   "source": [
    "Terminator\n",
    "===============\n",
    "\n",
    "- Ils terminent (d'oh) un bloc de base\n",
    "- Transfèrent le flot de contrôle à un autre bloc (``br``) à l'appelant (``ret``), à un gestionnaire d'exception (``invoke``) ou à rien (``unreachable``\n",
    "\n",
    "```\n",
    "                   <((((((\\\\\\\n",
    "                   /      . }\\\n",
    "                   ;--..--._|}\n",
    "(\\                 '--/\\--'  )\n",
    " \\\\                | '-'  :'|\n",
    "  \\\\               . -==- .-|\n",
    "   \\\\               \\.__.'   \\--._\n",
    "   [\\\\          __.--|       //  _/'--.\n",
    "   \\ \\\\       .'-._ ('-----'/ __/      \\\n",
    "    \\ \\\\     /   __>|      | '--.       |\n",
    "     \\ \\\\   |   \\   |     /    /       /\n",
    "      \\ '\\ /     \\  |     |  _/       /\n",
    "       \\  \\       \\ |     | /        /\n",
    " snd    \\  \\      \\        /\n",
    " ```\n",
    " \n",
    " source: http://www.ascii-code.com/ascii-art/movies/other.php"
   ]
  },
  {
   "cell_type": "markdown",
   "metadata": {
    "slideshow": {
     "slide_type": "subslide"
    }
   },
   "source": [
    "Les instructions\n",
    "=========\n",
    "\n",
    "- Produisent et utilisent des **valeurs** stockées dans des **registres virtuels**\n",
    "\n",
    "```\n",
    "%4 = xor i32 %3, %mask\n",
    "```\n",
    "\n",
    "- Manipulent des valeurs fortement typées :\n",
    "\n",
    "```\n",
    "%2 = getelementptr inbounds i32, i32* %data, i64 %indvars.iv\n",
    "```\n",
    "\n",
    "- Calcul, accès à la pile, appel de fonction, conversions…\n",
    "\n",
    "- Peuvent être annotées (*metadata*)\n",
    "\n",
    "```\n",
    "%3 = load i32, i32* %2, align 4, !tbaa !1\n",
    "...\n",
    "!1 = !{!2, !2, i64 0}\n",
    "!2 = !{!\"int\", !3, i64 0}\n",
    "```"
   ]
  },
  {
   "cell_type": "markdown",
   "metadata": {
    "slideshow": {
     "slide_type": "subslide"
    }
   },
   "source": [
    "Forme *Single Static Assignment*\n",
    "==================\n",
    "\n",
    "- un registre virtuel ``%stuff`` n'est écrit qu'une fois\n",
    "- la mémoire peut être lue ou écrite à travers ``load`` et ``store``\n",
    "- l'instruction ``phi`` permet de faire un choix suivant le prédécesseur\n",
    "\n",
    "```\n",
    "%indvars.iv = phi i64 [ %indvars.iv.next, %.lr.ph ], [ 0, %0 ]\n",
    "```"
   ]
  },
  {
   "cell_type": "markdown",
   "metadata": {
    "slideshow": {
     "slide_type": "subslide"
    }
   },
   "source": [
    "Avantages de cette réprésentation\n",
    "================\n",
    "\n",
    "- Propagation de constante qui rend cette situation impossible\n",
    "\n",
    "```\n",
    "%0 = i32 8\n",
    "%1 = add i32 %param, %0\n",
    "%2 = mul i32 %1, %0\n",
    "```\n",
    "\n",
    "- Élimination de code mort (bloc de base sans prédecesseur)\n",
    "\n",
    "Et pleins de choses qui vont au delà de ce cours…"
   ]
  },
  {
   "cell_type": "markdown",
   "metadata": {
    "collapsed": true,
    "slideshow": {
     "slide_type": "slide"
    }
   },
   "source": [
    "JIT do it\n",
    "======\n",
    "\n",
    "Les compilateurs à la volée permettent de :\n",
    "\n",
    "- construire en mémoire une représentation du programme\n",
    "- modifier cette représentation en fonction du contexte\n",
    "- traduire cette représentation en code machine\n",
    "- charger (incl. édition de lien) ce code dans l'espace mémoire du processus courant \n"
   ]
  },
  {
   "cell_type": "markdown",
   "metadata": {
    "slideshow": {
     "slide_type": "subslide"
    }
   },
   "source": [
    "Exemple de JIT\n",
    "==============\n",
    "\n",
    "Le JIT de LLVM"
   ]
  },
  {
   "cell_type": "code",
   "execution_count": null,
   "metadata": {
    "collapsed": false,
    "slideshow": {
     "slide_type": "fragment"
    }
   },
   "outputs": [],
   "source": [
    "!sed -n '/extern/,/BasicBloc/ p' interp.cpp"
   ]
  },
  {
   "cell_type": "markdown",
   "metadata": {
    "slideshow": {
     "slide_type": "subslide"
    }
   },
   "source": [
    "Exercice\n",
    "=====\n",
    "\n",
    "Étendez le code (téléchargeable sur https://gist.github.com/serge-sans-paille/aa332fa22692fcdfdc51) pour supporter plus d'opérations !"
   ]
  },
  {
   "cell_type": "markdown",
   "metadata": {
    "slideshow": {
     "slide_type": "slide"
    }
   },
   "source": [
    "Comment le compilateur voit…\n",
    "==================\n",
    "\n",
    "Différents concepts de haut niveau passés à la moulinette"
   ]
  },
  {
   "cell_type": "markdown",
   "metadata": {
    "slideshow": {
     "slide_type": "subslide"
    }
   },
   "source": [
    "La vectorisation\n",
    "==========\n",
    "\n",
    "TL;DR : un registre vectoriel contient plusieurs scalaires et les opérations sur un registre vectoriel affectent chaque scalaire\n",
    "\n",
    "```\n",
    "[a0     [b0     [c0\n",
    " a1  +   b1  =   c1\n",
    " a2      b2      c2\n",
    " a3]     b3]     c3]\n",
    "```"
   ]
  },
  {
   "cell_type": "code",
   "execution_count": null,
   "metadata": {
    "collapsed": false,
    "slideshow": {
     "slide_type": "subslide"
    }
   },
   "outputs": [],
   "source": [
    "!clang-3.7 -O3 -march=native mask.c -S -emit-llvm -o - | sed -n '/vector.body:/,/xor <8/ p'"
   ]
  },
  {
   "cell_type": "markdown",
   "metadata": {
    "slideshow": {
     "slide_type": "subslide"
    }
   },
   "source": [
    "Une initialisation de structure\n",
    "================="
   ]
  },
  {
   "cell_type": "code",
   "execution_count": null,
   "metadata": {
    "collapsed": false
   },
   "outputs": [],
   "source": [
    "%%file init_struct.c\n",
    "struct foo { int a; float b; char c ;};\n",
    "struct foo toir() {\n",
    "    struct foo res = {.a = 0, .b =2.5, .c=3};\n",
    "    return res;\n",
    "}"
   ]
  },
  {
   "cell_type": "code",
   "execution_count": null,
   "metadata": {
    "collapsed": false,
    "slideshow": {
     "slide_type": "fragment"
    }
   },
   "outputs": [],
   "source": [
    "!clang-3.7 -S -emit-llvm -O2 -o - init_struct.c | head -n 8"
   ]
  },
  {
   "cell_type": "markdown",
   "metadata": {
    "slideshow": {
     "slide_type": "subslide"
    }
   },
   "source": [
    "Une classe avec méthode\n",
    "============="
   ]
  },
  {
   "cell_type": "code",
   "execution_count": null,
   "metadata": {
    "collapsed": false
   },
   "outputs": [],
   "source": [
    "%%file class_with_method.cpp\n",
    "class ik {\n",
    "  public:\n",
    "    int field;\n",
    "    ik(int f) : field(f) {}\n",
    "};\n",
    "ik ariwarrior(ik const& ipe) {\n",
    "    \n",
    "    return ik(ipe.field);\n",
    "}"
   ]
  },
  {
   "cell_type": "code",
   "execution_count": null,
   "metadata": {
    "collapsed": false,
    "slideshow": {
     "slide_type": "subslide"
    }
   },
   "outputs": [],
   "source": [
    "!clang++-3.7 -O1 -S -std=c++11 -emit-llvm class_with_method.cpp -o - | grep \"%class.*type\""
   ]
  },
  {
   "cell_type": "code",
   "execution_count": null,
   "metadata": {
    "collapsed": false,
    "slideshow": {
     "slide_type": "subslide"
    }
   },
   "outputs": [],
   "source": [
    "!clang++-3.7 -O1 -S -std=c++11 -emit-llvm class_with_method.cpp -o - | grep \"comdat\""
   ]
  },
  {
   "cell_type": "code",
   "execution_count": null,
   "metadata": {
    "collapsed": false,
    "slideshow": {
     "slide_type": "subslide"
    }
   },
   "outputs": [],
   "source": [
    "!clang++-3.7 -O1 -S -std=c++11 -emit-llvm class_with_method.cpp -o - | grep this"
   ]
  },
  {
   "cell_type": "code",
   "execution_count": null,
   "metadata": {
    "collapsed": false,
    "slideshow": {
     "slide_type": "fragment"
    }
   },
   "outputs": [],
   "source": [
    "!printf _ZN2ikC2Ei | c++filt"
   ]
  },
  {
   "cell_type": "markdown",
   "metadata": {
    "slideshow": {
     "slide_type": "subslide"
    }
   },
   "source": [
    "Un ``memcpy``\n",
    "========"
   ]
  },
  {
   "cell_type": "code",
   "execution_count": null,
   "metadata": {
    "collapsed": false
   },
   "outputs": [],
   "source": [
    "%%file memcpy.c\n",
    "#include <string.h>\n",
    "void fast(size_t n, long *bacon, long const *antinople) {\n",
    "    memcpy(bacon, antinople, sizeof(long) * n);\n",
    "}"
   ]
  },
  {
   "cell_type": "code",
   "execution_count": null,
   "metadata": {
    "collapsed": false,
    "slideshow": {
     "slide_type": "fragment"
    }
   },
   "outputs": [],
   "source": [
    "!clang-3.7 -S -emit-llvm memcpy.c -O2 -o - | sed -n '5,12 p'"
   ]
  },
  {
   "cell_type": "markdown",
   "metadata": {
    "slideshow": {
     "slide_type": "subslide"
    }
   },
   "source": [
    "Note\n",
    "====\n",
    "\n",
    "Dans ``@llvm.memcpy.p0i8.p0i8.i64(i8* %1, i8* %2, i64 %3, i32 8, i1 false)``, le ``false`` indique un accès non volatile, koike ça vous évoque ?"
   ]
  },
  {
   "cell_type": "markdown",
   "metadata": {
    "slideshow": {
     "slide_type": "subslide"
    }
   },
   "source": [
    "Une levée d'exception\n",
    "============\n"
   ]
  },
  {
   "cell_type": "code",
   "execution_count": null,
   "metadata": {
    "collapsed": false
   },
   "outputs": [],
   "source": [
    "%%file raise.cpp\n",
    "extern void foo();\n",
    "void bar() {\n",
    "    try { foo(); }\n",
    "    catch(float) {}\n",
    "}"
   ]
  },
  {
   "cell_type": "code",
   "execution_count": null,
   "metadata": {
    "collapsed": false,
    "slideshow": {
     "slide_type": "subslide"
    }
   },
   "outputs": [],
   "source": [
    "!clang++-3.7 -S -emit-llvm -O2 -o - raise.cpp | sed -n '/invoke/,/resume/ p'"
   ]
  }
 ],
 "metadata": {
  "celltoolbar": "Slideshow",
  "kernelspec": {
   "display_name": "Python 3",
   "language": "python",
   "name": "python3"
  },
  "language_info": {
   "codemirror_mode": {
    "name": "ipython",
    "version": 3
   },
   "file_extension": ".py",
   "mimetype": "text/x-python",
   "name": "python",
   "nbconvert_exporter": "python",
   "pygments_lexer": "ipython3",
   "version": "3.4.4"
  }
 },
 "nbformat": 4,
 "nbformat_minor": 0
}
