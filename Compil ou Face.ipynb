{
 "cells": [
  {
   "cell_type": "markdown",
   "metadata": {
    "slideshow": {
     "slide_type": "slide"
    }
   },
   "source": [
    "Compil ou Face\n",
    "========\n",
    "\n",
    "Notions de compilation pour le reverseur\n",
    "--------------------------------------------\n",
    "\n",
    "par *Serge Guelton*☘ et *Adrien Guinet*⚽\n",
    "\n",
    "☘ ``sguelton@quarkslab.com``\n",
    "\n",
    "⚽ ``aguinet@quarkslab.com``"
   ]
  },
  {
   "cell_type": "markdown",
   "metadata": {
    "slideshow": {
     "slide_type": "subslide"
    }
   },
   "source": [
    "``man sguelton``\n",
    "=========\n",
    "\n",
    "- Ingénieur R&D à Quarkslab, spécialisé en compilation (Python, LLVM)\n",
    "- Chercheur à Socié, Télécom Bretagne\n",
    "\n",
    "``man aguinet``\n",
    "=========\n",
    "\n",
    "- Ingénieur R&D à Quarkslab, spécialisé en tout"
   ]
  },
  {
   "cell_type": "markdown",
   "metadata": {
    "slideshow": {
     "slide_type": "subslide"
    }
   },
   "source": [
    "Ce Cours (il est long)\n",
    "============\n",
    "\n",
    "- Connaitre sa chaîne de compilation\n",
    "- Connaître son compilo\n",
    "- Comprendre quelques transformations et analyse\n",
    "\n",
    "Cours et TP entrelacés"
   ]
  },
  {
   "cell_type": "markdown",
   "metadata": {
    "collapsed": true,
    "slideshow": {
     "slide_type": "slide"
    }
   },
   "source": [
    "Chaîne de compilation classique\n",
    "=================\n",
    "\n",
    "```\n",
    "\n",
    "a.c -- a.o --\n",
    "             :-- a.out \n",
    "b.c -- b.o --\n",
    "```"
   ]
  },
  {
   "cell_type": "code",
   "execution_count": 1,
   "metadata": {
    "collapsed": false,
    "slideshow": {
     "slide_type": "fragment"
    }
   },
   "outputs": [
    {
     "name": "stdout",
     "output_type": "stream",
     "text": [
      "Overwriting a.c\n"
     ]
    }
   ],
   "source": [
    "%%file a.c\n",
    "#include <stdio.h>\n",
    "void greet(char const* who) {\n",
    "    printf(\"Hello %s!\\n\", who);\n",
    "}"
   ]
  },
  {
   "cell_type": "code",
   "execution_count": 2,
   "metadata": {
    "collapsed": false,
    "slideshow": {
     "slide_type": "fragment"
    }
   },
   "outputs": [
    {
     "name": "stdout",
     "output_type": "stream",
     "text": [
      "Overwriting b.c\n"
     ]
    }
   ],
   "source": [
    "%%file b.c\n",
    "extern void greet(char const* who);\n",
    "int main(int argc, char const* argv[]) {\n",
    "    if(argc == 1) greet(\"world\");\n",
    "    else greet(argv[1]);\n",
    "    return 0;\n",
    "}"
   ]
  },
  {
   "cell_type": "code",
   "execution_count": 3,
   "metadata": {
    "collapsed": false,
    "slideshow": {
     "slide_type": "fragment"
    }
   },
   "outputs": [
    {
     "data": {
      "text/plain": [
       "['Hello sguelton!']"
      ]
     },
     "execution_count": 3,
     "metadata": {},
     "output_type": "execute_result"
    }
   ],
   "source": [
    "%%!\n",
    "clang-3.7 a.c b.c\n",
    "./a.out $USER"
   ]
  },
  {
   "cell_type": "markdown",
   "metadata": {
    "slideshow": {
     "slide_type": "subslide"
    }
   },
   "source": [
    "Pas à Pas : Préprocesseur\n",
    "==============\n",
    "\n",
    "*a.k.a.* « le sed du pauvre »"
   ]
  },
  {
   "cell_type": "code",
   "execution_count": 4,
   "metadata": {
    "collapsed": false,
    "slideshow": {
     "slide_type": "fragment"
    }
   },
   "outputs": [
    {
     "name": "stdout",
     "output_type": "stream",
     "text": [
      "730\r\n"
     ]
    }
   ],
   "source": [
    "!clang-3.7 -E a.c | wc -l"
   ]
  },
  {
   "cell_type": "code",
   "execution_count": 5,
   "metadata": {
    "collapsed": false,
    "slideshow": {
     "slide_type": "fragment"
    }
   },
   "outputs": [
    {
     "name": "stdout",
     "output_type": "stream",
     "text": [
      "# 1 \"a.c\"\r\n",
      "# 1 \"<built-in>\" 1\r\n",
      "# 1 \"<built-in>\" 3\r\n",
      "# 316 \"<built-in>\" 3\r\n",
      "# 1 \"<command line>\" 1\r\n",
      "# 1 \"<built-in>\" 2\r\n",
      "# 1 \"a.c\" 2\r\n",
      "# 1 \"/usr/include/stdio.h\" 1 3 4\r\n",
      "# 27 \"/usr/include/stdio.h\" 3 4\r\n",
      "# 1 \"/usr/include/features.h\" 1 3 4\r\n"
     ]
    }
   ],
   "source": [
    "!clang-3.7 -E a.c | head -n 10"
   ]
  },
  {
   "cell_type": "markdown",
   "metadata": {
    "slideshow": {
     "slide_type": "subslide"
    }
   },
   "source": [
    "Pas à Pas : La Représentation Interne\n",
    "=====================\n",
    "\n",
    "Généralement pas exposée à l'utilisateur…"
   ]
  },
  {
   "cell_type": "code",
   "execution_count": 6,
   "metadata": {
    "collapsed": false,
    "slideshow": {
     "slide_type": "fragment"
    }
   },
   "outputs": [
    {
     "name": "stdout",
     "output_type": "stream",
     "text": [
      "; ModuleID = 'a.c'\r\n",
      "target datalayout = \"e-m:e-i64:64-f80:128-n8:16:32:64-S128\"\r\n",
      "target triple = \"x86_64-pc-linux-gnu\"\r\n",
      "\r\n",
      "@.str = private unnamed_addr constant [11 x i8] c\"Hello %s!\\0A\\00\", align 1\r\n",
      "\r\n",
      "; Function Attrs: nounwind uwtable\r\n",
      "define void @greet(i8* %who) #0 {\r\n",
      "  %1 = alloca i8*, align 8\r\n",
      "  store i8* %who, i8** %1, align 8\r\n",
      "  %2 = load i8*, i8** %1, align 8\r\n",
      "  %3 = call i32 (i8*, ...) @printf(i8* getelementptr inbounds ([11 x i8], [11 x i8]* @.str, i32 0, i32 0), i8* %2)\r\n",
      "  ret void\r\n",
      "}\r\n",
      "\r\n",
      "declare i32 @printf(i8*, ...) #1\r\n"
     ]
    }
   ],
   "source": [
    "!clang-3.7 -S -emit-llvm a.c\n",
    "!head -n 16 a.ll"
   ]
  },
  {
   "cell_type": "markdown",
   "metadata": {
    "slideshow": {
     "slide_type": "subslide"
    }
   },
   "source": [
    "Pas à Pas : La transformation de RI (olé !)\n",
    "====================\n",
    "\n",
    "Ce qui se cache derrière ``-O2`` et consorts"
   ]
  },
  {
   "cell_type": "code",
   "execution_count": 7,
   "metadata": {
    "collapsed": false,
    "slideshow": {
     "slide_type": "fragment"
    }
   },
   "outputs": [
    {
     "name": "stdout",
     "output_type": "stream",
     "text": [
      "; ModuleID = 'a.ll'\r\n",
      "target datalayout = \"e-m:e-i64:64-f80:128-n8:16:32:64-S128\"\r\n",
      "target triple = \"x86_64-pc-linux-gnu\"\r\n",
      "\r\n",
      "@.str = private unnamed_addr constant [11 x i8] c\"Hello %s!\\0A\\00\", align 1\r\n",
      "\r\n",
      "; Function Attrs: nounwind uwtable\r\n",
      "define void @greet(i8* %who) #0 {\r\n",
      "  %1 = call i32 (i8*, ...) @printf(i8* getelementptr inbounds ([11 x i8], [11 x i8]* @.str, i32 0, i32 0), i8* %who)\r\n",
      "  ret void\r\n"
     ]
    }
   ],
   "source": [
    "!opt-3.7 -mem2reg a.ll -S | head -n 10"
   ]
  },
  {
   "cell_type": "markdown",
   "metadata": {
    "slideshow": {
     "slide_type": "subslide"
    }
   },
   "source": [
    "Pas à Pas : La génération de code assembleur\n",
    "========================\n",
    "\n",
    "Avec la bonne variante syntaxique…"
   ]
  },
  {
   "cell_type": "code",
   "execution_count": 8,
   "metadata": {
    "collapsed": false,
    "slideshow": {
     "slide_type": "fragment"
    }
   },
   "outputs": [
    {
     "name": "stdout",
     "output_type": "stream",
     "text": [
      "\tmov\trbp, rsp\r\n",
      ".Ltmp2:\r\n",
      "\t.cfi_def_cfa_register rbp\r\n",
      "\tsub\trsp, 16\r\n",
      "\tmov\trcx, rdi\r\n",
      "\tmov\tqword ptr [rbp - 8], rcx\r\n",
      "\tmov\tedi, .L.str\r\n",
      "\txor\teax, eax\r\n",
      "\tmov\trsi, rcx\r\n",
      "\tcall\tprintf\r\n"
     ]
    }
   ],
   "source": [
    "!llc-3.7 a.ll --x86-asm-syntax=intel\n",
    "!head -n 23 a.s | tail -n 10"
   ]
  },
  {
   "cell_type": "markdown",
   "metadata": {
    "slideshow": {
     "slide_type": "fragment"
    }
   },
   "source": [
    "Ou plus simplement :\n",
    "\n"
   ]
  },
  {
   "cell_type": "code",
   "execution_count": 9,
   "metadata": {
    "collapsed": true
   },
   "outputs": [],
   "source": [
    "!clang-3.7 -S  a.c #-masm=intel if needed"
   ]
  },
  {
   "cell_type": "markdown",
   "metadata": {
    "slideshow": {
     "slide_type": "subslide"
    }
   },
   "source": [
    "Pas à Pas : L'assemblage\n",
    "==============\n",
    "\n",
    "Génération de code objet, ou ``.o``"
   ]
  },
  {
   "cell_type": "code",
   "execution_count": 10,
   "metadata": {
    "collapsed": false,
    "slideshow": {
     "slide_type": "fragment"
    }
   },
   "outputs": [
    {
     "name": "stdout",
     "output_type": "stream",
     "text": [
      "a.o: ELF 64-bit LSB relocatable, x86-64, version 1 (SYSV), not stripped\r\n"
     ]
    }
   ],
   "source": [
    "!as a.s -o a.o\n",
    "!file a.o"
   ]
  },
  {
   "cell_type": "markdown",
   "metadata": {
    "slideshow": {
     "slide_type": "subslide"
    }
   },
   "source": [
    "Pas à Pas : L'édition de liens\n",
    "=================\n",
    "\n",
    "Le *linker*, les libs statiques, les lib dynamiques…"
   ]
  },
  {
   "cell_type": "code",
   "execution_count": 11,
   "metadata": {
    "collapsed": true,
    "slideshow": {
     "slide_type": "fragment"
    }
   },
   "outputs": [],
   "source": [
    "!clang-3.7 -c b.c # pour avoir le deuxième code objet"
   ]
  },
  {
   "cell_type": "code",
   "execution_count": 12,
   "metadata": {
    "collapsed": false,
    "slideshow": {
     "slide_type": "fragment"
    }
   },
   "outputs": [
    {
     "name": "stdout",
     "output_type": "stream",
     "text": [
      "                 U greet\r\n"
     ]
    }
   ],
   "source": [
    "!nm b.o | grep greet"
   ]
  },
  {
   "cell_type": "code",
   "execution_count": 13,
   "metadata": {
    "collapsed": false,
    "slideshow": {
     "slide_type": "fragment"
    }
   },
   "outputs": [
    {
     "name": "stdout",
     "output_type": "stream",
     "text": [
      "0000000000000000 T greet\n",
      "                 U printf\n"
     ]
    }
   ],
   "source": [
    "!nm a.o | grep greet\n",
    "!nm a.o | grep printf"
   ]
  },
  {
   "cell_type": "code",
   "execution_count": 14,
   "metadata": {
    "collapsed": false,
    "slideshow": {
     "slide_type": "subslide"
    }
   },
   "outputs": [
    {
     "name": "stdout",
     "output_type": "stream",
     "text": [
      "\tlibc.so.6 => /lib/x86_64-linux-gnu/libc.so.6 (0x00007fcba1ae0000)\r\n"
     ]
    }
   ],
   "source": [
    "!ldd /bin/ls | grep libc.so"
   ]
  },
  {
   "cell_type": "code",
   "execution_count": 15,
   "metadata": {
    "collapsed": false,
    "slideshow": {
     "slide_type": "fragment"
    }
   },
   "outputs": [
    {
     "name": "stdout",
     "output_type": "stream",
     "text": [
      "nm: /lib/x86_64-linux-gnu/libc.so.6: no symbols\r\n"
     ]
    }
   ],
   "source": [
    "!nm /lib/x86_64-linux-gnu/libc.so.6 | grep printf"
   ]
  },
  {
   "cell_type": "code",
   "execution_count": 16,
   "metadata": {
    "collapsed": false,
    "slideshow": {
     "slide_type": "fragment"
    }
   },
   "outputs": [
    {
     "name": "stdout",
     "output_type": "stream",
     "text": [
      "/lib/x86_64-linux-gnu/libc.so.6: ELF 64-bit LSB shared object, x86-64, version 1 (GNU/Linux), dynamically linked, interpreter /lib64/ld-linux-x86-64.so.2, BuildID[sha1]=4c15ef4771b6f2882c724245afbe03b677466ac5, for GNU/Linux 2.6.32, stripped\r\n"
     ]
    }
   ],
   "source": [
    "!file -L /lib/x86_64-linux-gnu/libc.so.6"
   ]
  },
  {
   "cell_type": "code",
   "execution_count": 17,
   "metadata": {
    "collapsed": false,
    "slideshow": {
     "slide_type": "fragment"
    }
   },
   "outputs": [
    {
     "name": "stdout",
     "output_type": "stream",
     "text": [
      "   596: 0000000000050d60   161 FUNC    GLOBAL DEFAULT   12 printf@@GLIBC_2.2.5\r\n",
      "  1482: 0000000000050cb0    31 FUNC    GLOBAL DEFAULT   12 printf_size_info@@GLIBC_2.2.5\r\n",
      "  1890: 0000000000050480  2086 FUNC    GLOBAL DEFAULT   12 printf_size@@GLIBC_2.2.5\r\n"
     ]
    }
   ],
   "source": [
    "!readelf -s /lib/x86_64-linux-gnu/libc.so.6 | grep ' printf'"
   ]
  },
  {
   "cell_type": "markdown",
   "metadata": {
    "slideshow": {
     "slide_type": "subslide"
    }
   },
   "source": [
    "Pas à Pas : l'exécutable\n",
    "==============\n",
    "\n",
    "Pour pondre un joli petit ``a.out`` tout mignon"
   ]
  },
  {
   "cell_type": "code",
   "execution_count": 18,
   "metadata": {
    "collapsed": false,
    "slideshow": {
     "slide_type": "fragment"
    }
   },
   "outputs": [
    {
     "name": "stdout",
     "output_type": "stream",
     "text": [
      "/usr/bin/x86_64-linux-gnu-ld.bfd.real: warning: cannot find entry symbol _start; defaulting to 00000000004000b0\r\n",
      "a.o: In function `greet':\r\n",
      "a.c:(.text+0x20): undefined reference to `printf'\r\n"
     ]
    }
   ],
   "source": [
    "! ld a.o b.o && ./a.out"
   ]
  },
  {
   "cell_type": "code",
   "execution_count": 19,
   "metadata": {
    "collapsed": false,
    "slideshow": {
     "slide_type": "fragment"
    }
   },
   "outputs": [
    {
     "name": "stdout",
     "output_type": "stream",
     "text": [
      "/usr/bin/x86_64-linux-gnu-ld.bfd.real: warning: cannot find entry symbol _start; defaulting to 0000000000400270\r\n",
      "a.out: ELF 64-bit LSB executable, x86-64, version 1 (SYSV), dynamically linked, interpreter /lib/ld64.so.1, not stripped\r\n",
      "/bin/sh: 1: ./a.out: not found\r\n"
     ]
    }
   ],
   "source": [
    "! ld a.o b.o -lc && file a.out && ./a.out"
   ]
  },
  {
   "cell_type": "code",
   "execution_count": 20,
   "metadata": {
    "collapsed": false,
    "slideshow": {
     "slide_type": "subslide"
    }
   },
   "outputs": [
    {
     "name": "stdout",
     "output_type": "stream",
     "text": [
      " \"/usr/bin/ld\" --hash-style=both --build-id --eh-frame-hdr -m elf_x86_64 -dynamic-linker /lib64/ld-linux-x86-64.so.2 -o a.out /usr/bin/../lib/gcc/x86_64-linux-gnu/5.2.1/../../../x86_64-linux-gnu/crt1.o /usr/bin/../lib/gcc/x86_64-linux-gnu/5.2.1/../../../x86_64-linux-gnu/crti.o /usr/bin/../lib/gcc/x86_64-linux-gnu/5.2.1/crtbegin.o -L/usr/bin/../lib/gcc/x86_64-linux-gnu/5.2.1 -L/usr/bin/../lib/gcc/x86_64-linux-gnu/5.2.1/../../../x86_64-linux-gnu -L/lib/x86_64-linux-gnu -L/lib/../lib64 -L/usr/lib/x86_64-linux-gnu -L/usr/bin/../lib/gcc/x86_64-linux-gnu/5.2.1/../../.. -L/usr/lib/llvm-3.7/bin/../lib -L/lib -L/usr/lib a.o b.o -lgcc --as-needed -lgcc_s --no-as-needed -lc -lgcc --as-needed -lgcc_s --no-as-needed /usr/bin/../lib/gcc/x86_64-linux-gnu/5.2.1/crtend.o /usr/bin/../lib/gcc/x86_64-linux-gnu/5.2.1/../../../x86_64-linux-gnu/crtn.o\r\n"
     ]
    }
   ],
   "source": [
    "! clang-3.7 -v a.o b.o 2>&1 | grep ld"
   ]
  },
  {
   "cell_type": "code",
   "execution_count": 21,
   "metadata": {
    "collapsed": false,
    "slideshow": {
     "slide_type": "fragment"
    }
   },
   "outputs": [
    {
     "name": "stdout",
     "output_type": "stream",
     "text": [
      "Hello world!\r\n"
     ]
    }
   ],
   "source": [
    "! ./a.out"
   ]
  },
  {
   "cell_type": "markdown",
   "metadata": {
    "slideshow": {
     "slide_type": "slide"
    }
   },
   "source": [
    "Comprendre l'*Abstract Syntax Tree*\n",
    "===================\n",
    "\n",
    "Jouons avec Python et son AST, plus facile que celui de C++"
   ]
  },
  {
   "cell_type": "code",
   "execution_count": 22,
   "metadata": {
    "collapsed": false,
    "slideshow": {
     "slide_type": "fragment"
    }
   },
   "outputs": [
    {
     "name": "stdout",
     "output_type": "stream",
     "text": [
      "<_ast.Module object at 0x7fdab01ee2e8>\n"
     ]
    }
   ],
   "source": [
    "import ast\n",
    "tree = ast.parse(\"print(1)\")\n",
    "print(tree)"
   ]
  },
  {
   "cell_type": "code",
   "execution_count": 23,
   "metadata": {
    "collapsed": false,
    "slideshow": {
     "slide_type": "fragment"
    }
   },
   "outputs": [
    {
     "data": {
      "text/plain": [
       "\"Module(body=[Expr(value=Call(func=Name(id='print', ctx=Load()), args=[Num(n=1)], keywords=[], starargs=None, kwargs=None))])\""
      ]
     },
     "execution_count": 23,
     "metadata": {},
     "output_type": "execute_result"
    }
   ],
   "source": [
    "ast.dump(tree)"
   ]
  },
  {
   "cell_type": "code",
   "execution_count": 24,
   "metadata": {
    "collapsed": false,
    "slideshow": {
     "slide_type": "fragment"
    }
   },
   "outputs": [
    {
     "name": "stdout",
     "output_type": "stream",
     "text": [
      "Module\n",
      "  Expr\n",
      "    Call\n",
      "      Name\n",
      "        Load\n",
      "      Num\n"
     ]
    }
   ],
   "source": [
    "import astdump\n",
    "astdump.indented(tree)"
   ]
  },
  {
   "cell_type": "markdown",
   "metadata": {
    "collapsed": true,
    "slideshow": {
     "slide_type": "subslide"
    }
   },
   "source": [
    "Compilation de l'AST\n",
    "===========\n",
    "\n",
    "Passage d'une représentation proche du langage à une représentation proche de l'interpréteur."
   ]
  },
  {
   "cell_type": "code",
   "execution_count": 25,
   "metadata": {
    "collapsed": true,
    "slideshow": {
     "slide_type": "fragment"
    }
   },
   "outputs": [],
   "source": [
    "code = compile(tree, '<>', 'exec')"
   ]
  },
  {
   "cell_type": "code",
   "execution_count": 26,
   "metadata": {
    "collapsed": false,
    "slideshow": {
     "slide_type": "fragment"
    }
   },
   "outputs": [
    {
     "name": "stdout",
     "output_type": "stream",
     "text": [
      "1\n"
     ]
    }
   ],
   "source": [
    "eval(code)"
   ]
  },
  {
   "cell_type": "markdown",
   "metadata": {
    "slideshow": {
     "slide_type": "subslide"
    }
   },
   "source": [
    "Inspection du bytecode\n",
    "=============\n",
    "\n",
    "CPython → Interpréteur à pile"
   ]
  },
  {
   "cell_type": "code",
   "execution_count": 27,
   "metadata": {
    "collapsed": false
   },
   "outputs": [
    {
     "name": "stdout",
     "output_type": "stream",
     "text": [
      "  1           0 LOAD_NAME                0 (print)\n",
      "              3 LOAD_CONST               0 (1)\n",
      "              6 CALL_FUNCTION            1 (1 positional, 0 keyword pair)\n",
      "              9 POP_TOP\n",
      "             10 LOAD_CONST               1 (None)\n",
      "             13 RETURN_VALUE\n"
     ]
    }
   ],
   "source": [
    "import dis\n",
    "dis.dis(code)"
   ]
  },
  {
   "cell_type": "markdown",
   "metadata": {
    "slideshow": {
     "slide_type": "subslide"
    }
   },
   "source": [
    "``(`` Aparté\n",
    "========\n",
    "\n",
    "D'après vous, quels sont les avantages et inconvénients d'une interpréteur à pile par rapport à un interpréteur à registre?"
   ]
  },
  {
   "cell_type": "markdown",
   "metadata": {
    "slideshow": {
     "slide_type": "fragment"
    }
   },
   "source": [
    "Interpréteur à pile\n",
    "----------------------\n",
    "\n",
    "Facile de conception, peu d'optimisations"
   ]
  },
  {
   "cell_type": "markdown",
   "metadata": {
    "slideshow": {
     "slide_type": "fragment"
    }
   },
   "source": [
    "Interpréteur à registre\n",
    "--------------------------\n",
    "\n",
    "Plus complexe (et pas seulement pour l'allocation de registre) mais permet de modéliser plus d'optimisations"
   ]
  },
  {
   "cell_type": "markdown",
   "metadata": {
    "slideshow": {
     "slide_type": "subslide"
    }
   },
   "source": [
    "Game of Stack\n",
    "=======\n",
    "\n",
    "Écrire un interpréteur (dans le langage de votre choix) qui comprend les instructions suivantes :\n",
    "\n",
    "- ``PUSH <integer>`` qui ajoute ``<integer>`` au dessus de la pile\n",
    "- ``DUP`` qui duplique le dessus de la pile\n",
    "- ``ADD`` qui enlève les deux premiers éléments de la pile et ajoute ``S[0] + S[1]`` au dessus de la pile\n",
    "- ``MUL`` qui enlève les deux premiers éléments de la pile et ajoute ``S[0] * S[1]`` au dessus de la pile\n",
    "- ``READ`` qui lit un entier sur ``stdin`` et l'ajoute au dessus de la pile\n",
    "- ``WRITE`` qui dépile le premier élément de la pile et l'affiche sudr ``stdout``\n"
   ]
  },
  {
   "cell_type": "markdown",
   "metadata": {
    "slideshow": {
     "slide_type": "subslide"
    }
   },
   "source": [
    "Par exemple :\n",
    "\n",
    "```\n",
    "0 READ\n",
    "1 DUP\n",
    "2 ADD\n",
    "3 WRITE\n",
    "```\n"
   ]
  },
  {
   "cell_type": "markdown",
   "metadata": {
    "slideshow": {
     "slide_type": "subslide"
    }
   },
   "source": [
    "Introduisons maintenant une optmisation (de ouf !). Les deux séquences suivantes sont équivalentes :\n",
    "\n",
    "```\n",
    "PUSH 2\n",
    "MUL\n",
    "```\n",
    "\n",
    "et\n",
    "\n",
    "```\n",
    "DUP\n",
    "ADD\n",
    "```\n",
    "\n",
    "Ajoutez à votre interpréteur une passe qui effectue de qui s'avère être une *peephole optimisation* en transformant l'une en l'autre.\n"
   ]
  },
  {
   "cell_type": "markdown",
   "metadata": {
    "slideshow": {
     "slide_type": "subslide"
    }
   },
   "source": [
    "Fin de l'aparté ``)``\n",
    "=========="
   ]
  },
  {
   "cell_type": "markdown",
   "metadata": {
    "slideshow": {
     "slide_type": "subslide"
    }
   },
   "source": [
    "Continuons à jouer avec l'AST\n",
    "================\n",
    "\n",
    "L'AST Python peut être parcouru grâce à un **visiteur** (qui n'est pas né d'hier)\n",
    "\n",
    "À lire : https://docs.python.org/3/library/ast.html"
   ]
  },
  {
   "cell_type": "code",
   "execution_count": 28,
   "metadata": {
    "collapsed": false
   },
   "outputs": [
    {
     "name": "stdout",
     "output_type": "stream",
     "text": [
      "1\n"
     ]
    }
   ],
   "source": [
    "class VisitIntegers(ast.NodeVisitor):\n",
    "    def visit_Num(self, node):\n",
    "        if isinstance(node.n, int):\n",
    "            print(node.n)\n",
    "\n",
    "VisitIntegers().visit(tree)"
   ]
  },
  {
   "cell_type": "markdown",
   "metadata": {
    "slideshow": {
     "slide_type": "subslide"
    }
   },
   "source": [
    "Exo\n",
    "===\n",
    "\n",
    "Écrivez un visiteur qui va trouver tous les appels à la fonction ``open``"
   ]
  },
  {
   "cell_type": "markdown",
   "metadata": {
    "slideshow": {
     "slide_type": "fragment"
    }
   },
   "source": [
    "Pourquoi est-ce en fait impossible en analyse statique ?"
   ]
  },
  {
   "cell_type": "markdown",
   "metadata": {
    "slideshow": {
     "slide_type": "subslide"
    }
   },
   "source": [
    "En instrumentant\n",
    "=========\n",
    "\n",
    "Une sorte d'analyse dynamique ?"
   ]
  },
  {
   "cell_type": "code",
   "execution_count": 29,
   "metadata": {
    "collapsed": false,
    "slideshow": {
     "slide_type": "fragment"
    }
   },
   "outputs": [
    {
     "name": "stdout",
     "output_type": "stream",
     "text": [
      "('/dev/null',) {}\n"
     ]
    },
    {
     "data": {
      "text/plain": [
       "<_io.TextIOWrapper name='/dev/null' mode='r' encoding='UTF-8'>"
      ]
     },
     "execution_count": 29,
     "metadata": {},
     "output_type": "execute_result"
    }
   ],
   "source": [
    "import builtins\n",
    "real_open = builtins.open\n",
    "def myopen(*args, **kwargs):\n",
    "    print(args, kwargs)\n",
    "    return real_open(*args, **kwargs)\n",
    "builtins.open = myopen\n",
    "open(\"/dev/null\")"
   ]
  },
  {
   "cell_type": "code",
   "execution_count": 30,
   "metadata": {
    "collapsed": true,
    "slideshow": {
     "slide_type": "fragment"
    }
   },
   "outputs": [],
   "source": [
    "builtins.open = real_open"
   ]
  },
  {
   "cell_type": "markdown",
   "metadata": {
    "slideshow": {
     "slide_type": "slide"
    }
   },
   "source": [
    "Comprendre la Représentation Interne (IR dans la langue de Homer)\n",
    "=======================\n",
    "\n",
    "En se basant sur celle de LLVM.\n",
    "\n",
    "Étudions plus précisément la sortie de clang sur un code simple :"
   ]
  },
  {
   "cell_type": "code",
   "execution_count": 31,
   "metadata": {
    "collapsed": false,
    "slideshow": {
     "slide_type": "fragment"
    }
   },
   "outputs": [
    {
     "name": "stdout",
     "output_type": "stream",
     "text": [
      "Overwriting mask.c\n"
     ]
    }
   ],
   "source": [
    "%%file mask.c\n",
    "void mask(unsigned n, int data[n], int mask) {\n",
    "    for(unsigned i = 0; i < n; ++i)\n",
    "        data[i] ^= mask;\n",
    "}"
   ]
  },
  {
   "cell_type": "code",
   "execution_count": 32,
   "metadata": {
    "collapsed": false,
    "slideshow": {
     "slide_type": "subslide"
    }
   },
   "outputs": [
    {
     "name": "stdout",
     "output_type": "stream",
     "text": [
      "define void @mask(i32 %n, i32* nocapture %data, i32 %mask) #0 {\r\n",
      "  %1 = icmp eq i32 %n, 0\r\n",
      "  br i1 %1, label %._crit_edge, label %.lr.ph\r\n",
      "\r\n",
      "._crit_edge:                                      ; preds = %.lr.ph, %0\r\n",
      "  ret void\r\n",
      "\r\n",
      ".lr.ph:                                           ; preds = %0, %.lr.ph\r\n",
      "  %indvars.iv = phi i64 [ %indvars.iv.next, %.lr.ph ], [ 0, %0 ]\r\n",
      "  %2 = getelementptr inbounds i32, i32* %data, i64 %indvars.iv\r\n",
      "  %3 = load i32, i32* %2, align 4, !tbaa !1\r\n",
      "  %4 = xor i32 %3, %mask\r\n",
      "  store i32 %4, i32* %2, align 4, !tbaa !1\r\n"
     ]
    }
   ],
   "source": [
    "! clang-3.7 -O1 -S -emit-llvm -o - mask.c | sed -n '6,18 p'"
   ]
  },
  {
   "cell_type": "markdown",
   "metadata": {
    "slideshow": {
     "slide_type": "subslide"
    }
   },
   "source": [
    "Représentation Hiérarchique\n",
    "===============\n",
    "\n",
    "Un Module contient :\n",
    "- des variables globales\n",
    "- des fonctions\n",
    "- des métadonnées"
   ]
  },
  {
   "cell_type": "markdown",
   "metadata": {
    "slideshow": {
     "slide_type": "subslide"
    }
   },
   "source": [
    "Représentation Hiérarchique\n",
    "===============\n",
    "\n",
    "Une fonction contient des blocs de base…\n",
    "\n",
    "Qui contiennent des instructions…\n",
    "\n",
    "Qui finissent par un…"
   ]
  },
  {
   "cell_type": "markdown",
   "metadata": {
    "slideshow": {
     "slide_type": "subslide"
    }
   },
   "source": [
    "Terminator\n",
    "===============\n",
    "\n",
    "- Ils terminent (d'oh) un bloc de base\n",
    "- Transfèrent le flot de contrôle à un autre bloc (``br``) à l'appelant (``ret``), à un gestionnaire d'exception (``invoke``) ou à rien (``unreachable``\n",
    "\n",
    "```\n",
    "                   <((((((\\\\\\\n",
    "                   /      . }\\\n",
    "                   ;--..--._|}\n",
    "(\\                 '--/\\--'  )\n",
    " \\\\                | '-'  :'|\n",
    "  \\\\               . -==- .-|\n",
    "   \\\\               \\.__.'   \\--._\n",
    "   [\\\\          __.--|       //  _/'--.\n",
    "   \\ \\\\       .'-._ ('-----'/ __/      \\\n",
    "    \\ \\\\     /   __>|      | '--.       |\n",
    "     \\ \\\\   |   \\   |     /    /       /\n",
    "      \\ '\\ /     \\  |     |  _/       /\n",
    "       \\  \\       \\ |     | /        /\n",
    " snd    \\  \\      \\        /\n",
    " ```\n",
    " \n",
    " source: http://www.ascii-code.com/ascii-art/movies/other.php"
   ]
  },
  {
   "cell_type": "markdown",
   "metadata": {
    "slideshow": {
     "slide_type": "subslide"
    }
   },
   "source": [
    "Les instructions\n",
    "=========\n",
    "\n",
    "- Produisent et utilisent des **valeurs** stockées dans des **registres virtuels**\n",
    "\n",
    "```\n",
    "%4 = xor i32 %3, %mask\n",
    "```\n",
    "\n",
    "- Manipulent des valeurs fortement typées :\n",
    "\n",
    "```\n",
    "%2 = getelementptr inbounds i32, i32* %data, i64 %indvars.iv\n",
    "```\n",
    "\n",
    "- Calcul, accès à la pile, appel de fonction, conversions…\n",
    "\n",
    "- Peuvent être annotées (*metadata*)\n",
    "\n",
    "```\n",
    "%3 = load i32, i32* %2, align 4, !tbaa !1\n",
    "...\n",
    "!1 = !{!2, !2, i64 0}\n",
    "!2 = !{!\"int\", !3, i64 0}\n",
    "```"
   ]
  },
  {
   "cell_type": "markdown",
   "metadata": {
    "slideshow": {
     "slide_type": "subslide"
    }
   },
   "source": [
    "Forme *Single Static Assignment*\n",
    "==================\n",
    "\n",
    "- un registre virtuel ``%stuff`` n'est écrit qu'une fois\n",
    "- la mémoire peut être lue ou écrite à travers ``load`` et ``store``\n",
    "- l'instruction ``phi`` permet de faire un choix suivant le prédécesseur\n",
    "\n",
    "```\n",
    "%indvars.iv = phi i64 [ %indvars.iv.next, %.lr.ph ], [ 0, %0 ]\n",
    "```"
   ]
  },
  {
   "cell_type": "markdown",
   "metadata": {
    "slideshow": {
     "slide_type": "subslide"
    }
   },
   "source": [
    "Avantages de cette réprésentation\n",
    "================\n",
    "\n",
    "- Propagation de constante qui rend cette situation impossible\n",
    "\n",
    "```\n",
    "%0 = i32 8\n",
    "%1 = add i32 %param, %0\n",
    "%2 = mul i32 %1, %0\n",
    "```\n",
    "\n",
    "- Élimination de code mort (bloc de base sans prédecesseur)\n",
    "\n",
    "Et pleins de choses qui vont au delà de ce cours…"
   ]
  },
  {
   "cell_type": "markdown",
   "metadata": {
    "slideshow": {
     "slide_type": "slide"
    }
   },
   "source": [
    "Comment le compilateur voit…\n",
    "=================="
   ]
  },
  {
   "cell_type": "markdown",
   "metadata": {
    "slideshow": {
     "slide_type": "subslide"
    }
   },
   "source": [
    "La vectorisation\n",
    "==========\n",
    "\n",
    "TL;DR : un registre vectoriel contient plusieurs scalaires et les opérations sur un registre vectoriel affectent chaque scalaire\n",
    "\n",
    "```\n",
    "[a0     [b0     [c0\n",
    " a1  +   b1  =   c1\n",
    " a2      b2      c2\n",
    " a3]     b3]     c3]\n",
    "```"
   ]
  },
  {
   "cell_type": "code",
   "execution_count": 33,
   "metadata": {
    "collapsed": false,
    "slideshow": {
     "slide_type": "subslide"
    }
   },
   "outputs": [
    {
     "name": "stdout",
     "output_type": "stream",
     "text": [
      "vector.body:                                      ; preds = %vector.body, %vector.ph\r\n",
      "  %index = phi i64 [ 0, %vector.ph ], [ %index.next, %vector.body ]\r\n",
      "  %5 = getelementptr inbounds i32, i32* %data, i64 %index\r\n",
      "  %6 = bitcast i32* %5 to <8 x i32>*\r\n",
      "  %wide.load = load <8 x i32>, <8 x i32>* %6, align 4, !tbaa !1\r\n",
      "  %7 = getelementptr i32, i32* %5, i64 8\r\n",
      "  %8 = bitcast i32* %7 to <8 x i32>*\r\n",
      "  %wide.load5 = load <8 x i32>, <8 x i32>* %8, align 4, !tbaa !1\r\n",
      "  %9 = getelementptr i32, i32* %5, i64 16\r\n",
      "  %10 = bitcast i32* %9 to <8 x i32>*\r\n",
      "  %wide.load6 = load <8 x i32>, <8 x i32>* %10, align 4, !tbaa !1\r\n",
      "  %11 = getelementptr i32, i32* %5, i64 24\r\n",
      "  %12 = bitcast i32* %11 to <8 x i32>*\r\n",
      "  %wide.load7 = load <8 x i32>, <8 x i32>* %12, align 4, !tbaa !1\r\n",
      "  %13 = xor <8 x i32> %wide.load, %broadcast.splat9\r\n"
     ]
    }
   ],
   "source": [
    "!clang-3.7 -O3 -march=native mask.c -S -emit-llvm -o - | sed -n '/vector.body:/,/xor <8/ p'"
   ]
  },
  {
   "cell_type": "markdown",
   "metadata": {
    "slideshow": {
     "slide_type": "subslide"
    }
   },
   "source": [
    "Une initialisation de structure\n",
    "================="
   ]
  },
  {
   "cell_type": "code",
   "execution_count": 34,
   "metadata": {
    "collapsed": false
   },
   "outputs": [
    {
     "name": "stdout",
     "output_type": "stream",
     "text": [
      "Overwriting init_struct.c\n"
     ]
    }
   ],
   "source": [
    "%%file init_struct.c\n",
    "struct foo { int a; float b; char c ;};\n",
    "struct foo toir() {\n",
    "    struct foo res = {.a = 0, .b =2.5, .c=3};\n",
    "    return res;\n",
    "}"
   ]
  },
  {
   "cell_type": "code",
   "execution_count": 35,
   "metadata": {
    "collapsed": false,
    "slideshow": {
     "slide_type": "fragment"
    }
   },
   "outputs": [
    {
     "name": "stdout",
     "output_type": "stream",
     "text": [
      "; ModuleID = 'init_struct.c'\r\n",
      "target datalayout = \"e-m:e-i64:64-f80:128-n8:16:32:64-S128\"\r\n",
      "target triple = \"x86_64-pc-linux-gnu\"\r\n",
      "\r\n",
      "; Function Attrs: nounwind readnone uwtable\r\n",
      "define { i64, i8 } @toir() #0 {\r\n",
      "  ret { i64, i8 } { i64 4620693217682128896, i8 3 }\r\n",
      "}\r\n"
     ]
    }
   ],
   "source": [
    "!clang-3.7 -S -emit-llvm -O2 -o - init_struct.c | head -n 8"
   ]
  },
  {
   "cell_type": "markdown",
   "metadata": {
    "slideshow": {
     "slide_type": "subslide"
    }
   },
   "source": [
    "Une classe avec méthode\n",
    "============="
   ]
  },
  {
   "cell_type": "code",
   "execution_count": 36,
   "metadata": {
    "collapsed": false
   },
   "outputs": [
    {
     "name": "stdout",
     "output_type": "stream",
     "text": [
      "Overwriting class_with_method.cpp\n"
     ]
    }
   ],
   "source": [
    "%%file class_with_method.cpp\n",
    "class ik {\n",
    "  public:\n",
    "    int field;\n",
    "    ik(int f) : field(f) {}\n",
    "};\n",
    "ik ariwarrior(ik const& ipe) {\n",
    "    \n",
    "    return ik(ipe.field);\n",
    "}"
   ]
  },
  {
   "cell_type": "code",
   "execution_count": 37,
   "metadata": {
    "collapsed": false,
    "slideshow": {
     "slide_type": "subslide"
    }
   },
   "outputs": [
    {
     "name": "stdout",
     "output_type": "stream",
     "text": [
      "%class.ik = type { i32 }\r\n"
     ]
    }
   ],
   "source": [
    "!clang++-3.7 -O1 -S -std=c++11 -emit-llvm class_with_method.cpp -o - | grep \"%class.*type\""
   ]
  },
  {
   "cell_type": "code",
   "execution_count": 38,
   "metadata": {
    "collapsed": false,
    "slideshow": {
     "slide_type": "subslide"
    }
   },
   "outputs": [
    {
     "name": "stdout",
     "output_type": "stream",
     "text": [
      "$_ZN2ikC2Ei = comdat any\r\n",
      "define linkonce_odr void @_ZN2ikC2Ei(%class.ik* nocapture %this, i32 %f) unnamed_addr #0 comdat align 2 {\r\n"
     ]
    }
   ],
   "source": [
    "!clang++-3.7 -O1 -S -std=c++11 -emit-llvm class_with_method.cpp -o - | grep \"comdat\""
   ]
  },
  {
   "cell_type": "code",
   "execution_count": 39,
   "metadata": {
    "collapsed": false,
    "slideshow": {
     "slide_type": "subslide"
    }
   },
   "outputs": [
    {
     "name": "stdout",
     "output_type": "stream",
     "text": [
      "define linkonce_odr void @_ZN2ikC2Ei(%class.ik* nocapture %this, i32 %f) unnamed_addr #0 comdat align 2 {\r\n",
      "  %1 = getelementptr inbounds %class.ik, %class.ik* %this, i64 0, i32 0\r\n"
     ]
    }
   ],
   "source": [
    "!clang++-3.7 -O1 -S -std=c++11 -emit-llvm class_with_method.cpp -o - | grep this"
   ]
  },
  {
   "cell_type": "code",
   "execution_count": 40,
   "metadata": {
    "collapsed": false,
    "slideshow": {
     "slide_type": "fragment"
    }
   },
   "outputs": [
    {
     "name": "stdout",
     "output_type": "stream",
     "text": [
      "ik::ik(int)"
     ]
    }
   ],
   "source": [
    "!printf _ZN2ikC2Ei | c++filt"
   ]
  },
  {
   "cell_type": "markdown",
   "metadata": {
    "slideshow": {
     "slide_type": "subslide"
    }
   },
   "source": [
    "Un ``memcpy``\n",
    "========"
   ]
  },
  {
   "cell_type": "code",
   "execution_count": 41,
   "metadata": {
    "collapsed": false
   },
   "outputs": [
    {
     "name": "stdout",
     "output_type": "stream",
     "text": [
      "Overwriting memcpy.c\n"
     ]
    }
   ],
   "source": [
    "%%file memcpy.c\n",
    "#include <string.h>\n",
    "void fast(size_t n, long *bacon, long const *antinople) {\n",
    "    memcpy(bacon, antinople, sizeof(long) * n);\n",
    "}"
   ]
  },
  {
   "cell_type": "code",
   "execution_count": 42,
   "metadata": {
    "collapsed": false,
    "slideshow": {
     "slide_type": "fragment"
    }
   },
   "outputs": [
    {
     "name": "stdout",
     "output_type": "stream",
     "text": [
      "; Function Attrs: nounwind uwtable\r\n",
      "define void @fast(i64 %n, i64* nocapture %bacon, i64* nocapture readonly %antinople) #0 {\r\n",
      "  %1 = bitcast i64* %bacon to i8*\r\n",
      "  %2 = bitcast i64* %antinople to i8*\r\n",
      "  %3 = shl i64 %n, 3\r\n",
      "  tail call void @llvm.memcpy.p0i8.p0i8.i64(i8* %1, i8* %2, i64 %3, i32 8, i1 false)\r\n",
      "  ret void\r\n",
      "}\r\n"
     ]
    }
   ],
   "source": [
    "!clang-3.7 -S -emit-llvm memcpy.c -O2 -o - | sed -n '5,12 p'"
   ]
  },
  {
   "cell_type": "markdown",
   "metadata": {
    "slideshow": {
     "slide_type": "subslide"
    }
   },
   "source": [
    "Note\n",
    "====\n",
    "\n",
    "Dans ``@llvm.memcpy.p0i8.p0i8.i64(i8* %1, i8* %2, i64 %3, i32 8, i1 false)``, le ``false`` indique un accès non volatile, koike ça vous évoque ?"
   ]
  },
  {
   "cell_type": "markdown",
   "metadata": {
    "slideshow": {
     "slide_type": "subslide"
    }
   },
   "source": [
    "Une levée d'exception\n",
    "============\n"
   ]
  },
  {
   "cell_type": "code",
   "execution_count": 43,
   "metadata": {
    "collapsed": false
   },
   "outputs": [
    {
     "name": "stdout",
     "output_type": "stream",
     "text": [
      "Overwriting raise.cpp\n"
     ]
    }
   ],
   "source": [
    "%%file raise.cpp\n",
    "extern void foo();\n",
    "void bar() {\n",
    "    try { foo(); }\n",
    "    catch(float) {}\n",
    "}"
   ]
  },
  {
   "cell_type": "code",
   "execution_count": 44,
   "metadata": {
    "collapsed": false,
    "slideshow": {
     "slide_type": "subslide"
    }
   },
   "outputs": [
    {
     "name": "stdout",
     "output_type": "stream",
     "text": [
      "  invoke void @_Z3foov()\r\n",
      "          to label %9 unwind label %1\r\n",
      "\r\n",
      "; <label>:1                                       ; preds = %0\r\n",
      "  %2 = landingpad { i8*, i32 }\r\n",
      "          catch i8* bitcast (i8** @_ZTIf to i8*)\r\n",
      "  %3 = extractvalue { i8*, i32 } %2, 1\r\n",
      "  %4 = tail call i32 @llvm.eh.typeid.for(i8* bitcast (i8** @_ZTIf to i8*)) #3\r\n",
      "  %5 = icmp eq i32 %3, %4\r\n",
      "  br i1 %5, label %6, label %10\r\n",
      "\r\n",
      "; <label>:6                                       ; preds = %1\r\n",
      "  %7 = extractvalue { i8*, i32 } %2, 0\r\n",
      "  %8 = tail call i8* @__cxa_begin_catch(i8* %7) #3\r\n",
      "  tail call void @__cxa_end_catch() #3\r\n",
      "  br label %9\r\n",
      "\r\n",
      "; <label>:9                                       ; preds = %0, %6\r\n",
      "  ret void\r\n",
      "\r\n",
      "; <label>:10                                      ; preds = %1\r\n",
      "  resume { i8*, i32 } %2\r\n"
     ]
    }
   ],
   "source": [
    "!clang++-3.7 -S -emit-llvm -O2 -o - raise.cpp | sed -n '/invoke/,/resume/ p'"
   ]
  },
  {
   "cell_type": "code",
   "execution_count": null,
   "metadata": {
    "collapsed": true
   },
   "outputs": [],
   "source": []
  }
 ],
 "metadata": {
  "celltoolbar": "Slideshow",
  "kernelspec": {
   "display_name": "Python 3",
   "language": "python",
   "name": "python3"
  },
  "language_info": {
   "codemirror_mode": {
    "name": "ipython",
    "version": 3
   },
   "file_extension": ".py",
   "mimetype": "text/x-python",
   "name": "python",
   "nbconvert_exporter": "python",
   "pygments_lexer": "ipython3",
   "version": "3.4.4"
  }
 },
 "nbformat": 4,
 "nbformat_minor": 0
}
