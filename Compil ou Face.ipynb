{
 "cells": [
  {
   "cell_type": "markdown",
   "metadata": {
    "deletable": true,
    "editable": true,
    "slideshow": {
     "slide_type": "slide"
    }
   },
   "source": [
    "Compil ou Face\n",
    "========\n",
    "\n",
    "Notions de compilation pour le reverseur\n",
    "--------------------------------------------\n",
    "\n",
    "par *Serge*☘ et *Juan*⚽\n",
    "\n",
    "☘ ``sguelton@quarkslab.com``\n",
    "\n",
    "⚽ ``jmmartinez@quarkslab.com``"
   ]
  },
  {
   "cell_type": "markdown",
   "metadata": {
    "deletable": true,
    "editable": true,
    "slideshow": {
     "slide_type": "subslide"
    }
   },
   "source": [
    "``man sguelton``\n",
    "=========\n",
    "\n",
    "- Ingénieur R&D à Quarkslab, spécialisé en compilation (Python, LLVM)\n",
    "- Chercheur associé à Télécom Bretagne\n",
    "\n",
    "``apropos jmmartinez``\n",
    "============\n",
    "\n",
    "- Ingénieur R&D à Quarkslab, spécialisé en compilation"
   ]
  },
  {
   "cell_type": "markdown",
   "metadata": {
    "deletable": true,
    "editable": true,
    "slideshow": {
     "slide_type": "subslide"
    }
   },
   "source": [
    "Ce Cours (il est long)\n",
    "============\n",
    "\n",
    "- Connaitre une chaîne de compilation et découvire Clang/LLVM\n",
    "- Comprendre quelques transformations et analyse\n",
    "\n",
    "Cours et TP entrelacés"
   ]
  },
  {
   "cell_type": "markdown",
   "metadata": {
    "deletable": true,
    "editable": true,
    "slideshow": {
     "slide_type": "subslide"
    }
   },
   "source": [
    "Intérêt pour le reverser\n",
    "=============\n",
    "\n",
    "- Mieux comprendre le code généré\n",
    "- Billes de compréhension pour écrire des outils d'analyse\n",
    "- Culture G"
   ]
  },
  {
   "cell_type": "markdown",
   "metadata": {
    "deletable": true,
    "editable": true,
    "slideshow": {
     "slide_type": "subslide"
    }
   },
   "source": [
    "Cherchez l'intru\n",
    "=========\n",
    "\n",
    "Lequel de ces outils n'embarque pas de compilateur ?\n",
    "\n",
    "gcc, clang, tex, sh, javac, firefox, perl, python"
   ]
  },
  {
   "cell_type": "markdown",
   "metadata": {
    "deletable": true,
    "editable": true,
    "slideshow": {
     "slide_type": "subslide"
    }
   },
   "source": [
    "Galerie des horreurs !0\n",
    "=============\n",
    "\n",
    "- (O)TCC : http://fr.wikipedia.org/wiki/Tiny_C_Compiler\n",
    "- Emscripten : http://emscripten.org\n",
    "- CompCert : http://compcert.inria.fr/\n",
    "- NoWeb : http://www.cs.tufts.edu/~nr/noweb/"
   ]
  },
  {
   "cell_type": "markdown",
   "metadata": {
    "deletable": true,
    "editable": true,
    "slideshow": {
     "slide_type": "subslide"
    }
   },
   "source": [
    "Galerie des horreurs !1\n",
    "=============\n",
    "\n",
    "- Astrée : http://www.astree.ens.fr/\n",
    "- Splint : http://www.splint.org/\n",
    "- Sparse : https://sparse.wiki.kernel.org/index.php/Main_Page"
   ]
  },
  {
   "cell_type": "markdown",
   "metadata": {
    "deletable": true,
    "editable": true,
    "slideshow": {
     "slide_type": "slide"
    }
   },
   "source": [
    "Compilateur trois phases\n",
    "==============\n",
    "\n",
    "![llvm](img/SimpleCompiler.png)\n",
    "\n",
    "\n",
    "\n"
   ]
  },
  {
   "cell_type": "markdown",
   "metadata": {
    "deletable": true,
    "editable": true,
    "slideshow": {
     "slide_type": "subslide"
    }
   },
   "source": [
    "![llvm](img/RetargetableCompiler.png)"
   ]
  },
  {
   "cell_type": "markdown",
   "metadata": {
    "collapsed": true,
    "deletable": true,
    "editable": true,
    "slideshow": {
     "slide_type": "subslide"
    }
   },
   "source": [
    "Chaîne de compilation classique C\n",
    "===================\n",
    "\n",
    "```\n",
    "\n",
    "a.c -- a.o --\n",
    "             :-- a.out \n",
    "b.c -- b.o --\n",
    "```\n"
   ]
  },
  {
   "cell_type": "code",
   "execution_count": 1,
   "metadata": {
    "collapsed": false,
    "deletable": true,
    "editable": true,
    "slideshow": {
     "slide_type": "subslide"
    }
   },
   "outputs": [
    {
     "name": "stdout",
     "output_type": "stream",
     "text": [
      "Overwriting a.c\n"
     ]
    }
   ],
   "source": [
    "%%file a.c\n",
    "#include <stdio.h>\n",
    "void greet(char const* who) {\n",
    "    printf(\"Hello %s!\\n\", who);\n",
    "}"
   ]
  },
  {
   "cell_type": "code",
   "execution_count": 2,
   "metadata": {
    "collapsed": false,
    "deletable": true,
    "editable": true,
    "slideshow": {
     "slide_type": "fragment"
    }
   },
   "outputs": [
    {
     "name": "stdout",
     "output_type": "stream",
     "text": [
      "Overwriting b.c\n"
     ]
    }
   ],
   "source": [
    "%%file b.c\n",
    "extern void greet(char const* who);\n",
    "int main(int argc, char const* argv[]) {\n",
    "    if(argc == 1) greet(\"world\");\n",
    "    else greet(argv[1]);\n",
    "    return 0;\n",
    "}"
   ]
  },
  {
   "cell_type": "code",
   "execution_count": 3,
   "metadata": {
    "collapsed": false,
    "deletable": true,
    "editable": true,
    "slideshow": {
     "slide_type": "subslide"
    }
   },
   "outputs": [
    {
     "data": {
      "text/plain": [
       "['Hello serge!']"
      ]
     },
     "execution_count": 3,
     "metadata": {},
     "output_type": "execute_result"
    }
   ],
   "source": [
    "%%!\n",
    "clang a.c b.c\n",
    "./a.out $USER"
   ]
  },
  {
   "cell_type": "markdown",
   "metadata": {
    "deletable": true,
    "editable": true,
    "slideshow": {
     "slide_type": "subslide"
    }
   },
   "source": [
    "Pas à Pas : Préprocesseur\n",
    "==============\n",
    "\n",
    "*a.k.a.* « le sed du pauvre »"
   ]
  },
  {
   "cell_type": "code",
   "execution_count": 4,
   "metadata": {
    "collapsed": false,
    "deletable": true,
    "editable": true,
    "slideshow": {
     "slide_type": "fragment"
    }
   },
   "outputs": [
    {
     "name": "stdout",
     "output_type": "stream",
     "text": [
      "740\r\n"
     ]
    }
   ],
   "source": [
    "!clang -E a.c | wc -l"
   ]
  },
  {
   "cell_type": "code",
   "execution_count": 5,
   "metadata": {
    "collapsed": false,
    "deletable": true,
    "editable": true,
    "slideshow": {
     "slide_type": "fragment"
    }
   },
   "outputs": [
    {
     "name": "stdout",
     "output_type": "stream",
     "text": [
      "# 1 \"a.c\"\r\n",
      "# 1 \"<built-in>\" 1\r\n",
      "# 1 \"<built-in>\" 3\r\n",
      "# 317 \"<built-in>\" 3\r\n",
      "# 1 \"<command line>\" 1\r\n",
      "# 1 \"<built-in>\" 2\r\n",
      "# 1 \"a.c\" 2\r\n",
      "# 1 \"/usr/include/stdio.h\" 1 3 4\r\n",
      "# 27 \"/usr/include/stdio.h\" 3 4\r\n",
      "# 1 \"/usr/include/features.h\" 1 3 4\r\n"
     ]
    }
   ],
   "source": [
    "!clang -E a.c | head -n 10"
   ]
  },
  {
   "cell_type": "markdown",
   "metadata": {
    "deletable": true,
    "editable": true,
    "slideshow": {
     "slide_type": "subslide"
    }
   },
   "source": [
    "Pas à Pas : La Représentation Interne\n",
    "=====================\n",
    "\n",
    "Généralement pas exposée à l'utilisateur…"
   ]
  },
  {
   "cell_type": "code",
   "execution_count": 6,
   "metadata": {
    "collapsed": false,
    "deletable": true,
    "editable": true,
    "slideshow": {
     "slide_type": "fragment"
    }
   },
   "outputs": [
    {
     "name": "stdout",
     "output_type": "stream",
     "text": [
      "; ModuleID = 'a.c'\r\n",
      "target datalayout = \"e-m:e-i64:64-f80:128-n8:16:32:64-S128\"\r\n",
      "target triple = \"x86_64-pc-linux-gnu\"\r\n",
      "\r\n",
      "@.str = private unnamed_addr constant [11 x i8] c\"Hello %s!\\0A\\00\", align 1\r\n",
      "\r\n",
      "; Function Attrs: nounwind uwtable\r\n",
      "define void @greet(i8* %who) #0 {\r\n",
      "  %1 = alloca i8*, align 8\r\n",
      "  store i8* %who, i8** %1, align 8\r\n",
      "  %2 = load i8*, i8** %1, align 8\r\n",
      "  %3 = call i32 (i8*, ...) @printf(i8* getelementptr inbounds ([11 x i8], [11 x i8]* @.str, i32 0, i32 0), i8* %2)\r\n",
      "  ret void\r\n",
      "}\r\n",
      "\r\n",
      "declare i32 @printf(i8*, ...) #1\r\n"
     ]
    }
   ],
   "source": [
    "!clang -S -emit-llvm a.c\n",
    "!head -n 16 a.ll"
   ]
  },
  {
   "cell_type": "markdown",
   "metadata": {
    "deletable": true,
    "editable": true,
    "slideshow": {
     "slide_type": "subslide"
    }
   },
   "source": [
    "Pas à Pas : La transformation de RI (olé !)\n",
    "====================\n",
    "\n",
    "Ce qui se cache derrière ``-O2`` et consorts"
   ]
  },
  {
   "cell_type": "code",
   "execution_count": 7,
   "metadata": {
    "collapsed": false,
    "deletable": true,
    "editable": true,
    "slideshow": {
     "slide_type": "fragment"
    }
   },
   "outputs": [
    {
     "name": "stdout",
     "output_type": "stream",
     "text": [
      "; ModuleID = 'a.ll'\r\n",
      "target datalayout = \"e-m:e-i64:64-f80:128-n8:16:32:64-S128\"\r\n",
      "target triple = \"x86_64-pc-linux-gnu\"\r\n",
      "\r\n",
      "@.str = private unnamed_addr constant [11 x i8] c\"Hello %s!\\0A\\00\", align 1\r\n",
      "\r\n",
      "; Function Attrs: nounwind uwtable\r\n",
      "define void @greet(i8* %who) #0 {\r\n",
      "  %1 = call i32 (i8*, ...) @printf(i8* getelementptr inbounds ([11 x i8], [11 x i8]* @.str, i32 0, i32 0), i8* %who)\r\n",
      "  ret void\r\n"
     ]
    }
   ],
   "source": [
    "!opt-3.8 -mem2reg a.ll -S | head -n 10"
   ]
  },
  {
   "cell_type": "markdown",
   "metadata": {
    "deletable": true,
    "editable": true,
    "slideshow": {
     "slide_type": "subslide"
    }
   },
   "source": [
    "Pas à Pas : La génération de code assembleur\n",
    "========================\n",
    "\n",
    "Avec la bonne variante syntaxique…"
   ]
  },
  {
   "cell_type": "code",
   "execution_count": 8,
   "metadata": {
    "collapsed": false,
    "deletable": true,
    "editable": true,
    "slideshow": {
     "slide_type": "fragment"
    }
   },
   "outputs": [
    {
     "name": "stdout",
     "output_type": "stream",
     "text": [
      "\t.cfi_offset rbp, -16\r\n",
      "\tmov\trbp, rsp\r\n",
      ".Ltmp2:\r\n",
      "\t.cfi_def_cfa_register rbp\r\n",
      "\tsub\trsp, 16\r\n",
      "\tmov\trcx, rdi\r\n",
      "\tmov\tqword ptr [rbp - 8], rcx\r\n",
      "\tmov\tedi, .L.str\r\n",
      "\txor\teax, eax\r\n",
      "\tmov\trsi, rcx\r\n"
     ]
    }
   ],
   "source": [
    "!llc-3.8 a.ll --x86-asm-syntax=intel\n",
    "!head -n 23 a.s | tail -n 10"
   ]
  },
  {
   "cell_type": "markdown",
   "metadata": {
    "deletable": true,
    "editable": true,
    "slideshow": {
     "slide_type": "subslide"
    }
   },
   "source": [
    "Ou plus simplement :\n",
    "\n"
   ]
  },
  {
   "cell_type": "code",
   "execution_count": 9,
   "metadata": {
    "collapsed": true,
    "deletable": true,
    "editable": true
   },
   "outputs": [],
   "source": [
    "!clang -S  a.c #-masm=intel if needed"
   ]
  },
  {
   "cell_type": "markdown",
   "metadata": {
    "deletable": true,
    "editable": true,
    "slideshow": {
     "slide_type": "subslide"
    }
   },
   "source": [
    "Pas à Pas : L'assemblage\n",
    "==============\n",
    "\n",
    "Génération de code objet, ou ``.o``"
   ]
  },
  {
   "cell_type": "code",
   "execution_count": 10,
   "metadata": {
    "collapsed": false,
    "deletable": true,
    "editable": true,
    "slideshow": {
     "slide_type": "fragment"
    }
   },
   "outputs": [
    {
     "name": "stdout",
     "output_type": "stream",
     "text": [
      "a.o: ELF 64-bit LSB relocatable, x86-64, version 1 (SYSV), not stripped\r\n"
     ]
    }
   ],
   "source": [
    "!as a.s -o a.o\n",
    "!file a.o"
   ]
  },
  {
   "cell_type": "markdown",
   "metadata": {
    "deletable": true,
    "editable": true,
    "slideshow": {
     "slide_type": "subslide"
    }
   },
   "source": [
    "Pas à Pas : L'édition de liens\n",
    "=================\n",
    "\n",
    "Le *linker*, les libs statiques, les lib dynamiques…"
   ]
  },
  {
   "cell_type": "code",
   "execution_count": 11,
   "metadata": {
    "collapsed": true,
    "deletable": true,
    "editable": true,
    "slideshow": {
     "slide_type": "fragment"
    }
   },
   "outputs": [],
   "source": [
    "!clang -c b.c # pour avoir le deuxième code objet"
   ]
  },
  {
   "cell_type": "code",
   "execution_count": 12,
   "metadata": {
    "collapsed": false,
    "deletable": true,
    "editable": true,
    "slideshow": {
     "slide_type": "fragment"
    }
   },
   "outputs": [
    {
     "name": "stdout",
     "output_type": "stream",
     "text": [
      "                 U greet\r\n"
     ]
    }
   ],
   "source": [
    "!nm b.o | grep greet"
   ]
  },
  {
   "cell_type": "code",
   "execution_count": 13,
   "metadata": {
    "collapsed": false,
    "deletable": true,
    "editable": true,
    "slideshow": {
     "slide_type": "fragment"
    }
   },
   "outputs": [
    {
     "name": "stdout",
     "output_type": "stream",
     "text": [
      "0000000000000000 T greet\n",
      "                 U printf\n"
     ]
    }
   ],
   "source": [
    "!nm a.o | grep greet\n",
    "!nm a.o | grep printf"
   ]
  },
  {
   "cell_type": "code",
   "execution_count": 14,
   "metadata": {
    "collapsed": false,
    "deletable": true,
    "editable": true,
    "slideshow": {
     "slide_type": "subslide"
    }
   },
   "outputs": [
    {
     "name": "stdout",
     "output_type": "stream",
     "text": [
      "\tlibc.so.6 => /lib/x86_64-linux-gnu/libc.so.6 (0x00007f1b714fb000)\r\n"
     ]
    }
   ],
   "source": [
    "!ldd /bin/ls | grep libc.so"
   ]
  },
  {
   "cell_type": "code",
   "execution_count": 15,
   "metadata": {
    "collapsed": false,
    "deletable": true,
    "editable": true,
    "slideshow": {
     "slide_type": "fragment"
    }
   },
   "outputs": [
    {
     "name": "stdout",
     "output_type": "stream",
     "text": [
      "nm: /lib/x86_64-linux-gnu/libc.so.6: no symbols\r\n"
     ]
    }
   ],
   "source": [
    "!nm /lib/x86_64-linux-gnu/libc.so.6 | grep printf"
   ]
  },
  {
   "cell_type": "code",
   "execution_count": 16,
   "metadata": {
    "collapsed": false,
    "deletable": true,
    "editable": true,
    "slideshow": {
     "slide_type": "fragment"
    }
   },
   "outputs": [
    {
     "name": "stdout",
     "output_type": "stream",
     "text": [
      "/lib/x86_64-linux-gnu/libc.so.6: ELF 64-bit LSB shared object, x86-64, version 1 (GNU/Linux), dynamically linked, interpreter /lib64/ld-linux-x86-64.so.2, BuildID[sha1]=2246ba050897f1d98034a7ca4b7ec06b594a373d, for GNU/Linux 2.6.32, stripped\r\n"
     ]
    }
   ],
   "source": [
    "!file -L /lib/x86_64-linux-gnu/libc.so.6"
   ]
  },
  {
   "cell_type": "code",
   "execution_count": 17,
   "metadata": {
    "collapsed": false,
    "deletable": true,
    "editable": true,
    "slideshow": {
     "slide_type": "fragment"
    }
   },
   "outputs": [
    {
     "name": "stdout",
     "output_type": "stream",
     "text": [
      "   602: 000000000004f160   161 FUNC    GLOBAL DEFAULT   13 printf@@GLIBC_2.2.5\r\n",
      "  1499: 000000000004f0b0    31 FUNC    GLOBAL DEFAULT   13 printf_size_info@@GLIBC_2.2.5\r\n",
      "  1911: 000000000004e8c0  2020 FUNC    GLOBAL DEFAULT   13 printf_size@@GLIBC_2.2.5\r\n"
     ]
    }
   ],
   "source": [
    "!readelf -s /lib/x86_64-linux-gnu/libc.so.6 | grep ' printf'"
   ]
  },
  {
   "cell_type": "markdown",
   "metadata": {
    "deletable": true,
    "editable": true,
    "slideshow": {
     "slide_type": "subslide"
    }
   },
   "source": [
    "Pas à Pas : l'exécutable\n",
    "==============\n",
    "\n",
    "Pour pondre un joli petit ``a.out`` tout mignon"
   ]
  },
  {
   "cell_type": "code",
   "execution_count": 18,
   "metadata": {
    "collapsed": false,
    "deletable": true,
    "editable": true,
    "slideshow": {
     "slide_type": "fragment"
    }
   },
   "outputs": [
    {
     "name": "stdout",
     "output_type": "stream",
     "text": [
      "ld: warning: cannot find entry symbol _start; defaulting to 00000000004000b0\r\n",
      "a.o: In function `greet':\r\n",
      "a.c:(.text+0x20): undefined reference to `printf'\r\n"
     ]
    }
   ],
   "source": [
    "! ld a.o b.o && ./a.out"
   ]
  },
  {
   "cell_type": "code",
   "execution_count": 19,
   "metadata": {
    "collapsed": false,
    "deletable": true,
    "editable": true,
    "slideshow": {
     "slide_type": "fragment"
    }
   },
   "outputs": [
    {
     "name": "stdout",
     "output_type": "stream",
     "text": [
      "ld: warning: cannot find entry symbol _start; defaulting to 00000000004002a0\n",
      "a.out: ELF 64-bit LSB executable, x86-64, version 1 (SYSV), dynamically linked, interpreter /lib/ld64.so.1, not stripped\n",
      "/bin/sh: 1: ./a.out: not found\n"
     ]
    }
   ],
   "source": [
    "! ld a.o b.o -lc && file a.out && ./a.out"
   ]
  },
  {
   "cell_type": "code",
   "execution_count": 20,
   "metadata": {
    "collapsed": false,
    "deletable": true,
    "editable": true,
    "slideshow": {
     "slide_type": "subslide"
    }
   },
   "outputs": [
    {
     "name": "stdout",
     "output_type": "stream",
     "text": [
      " \"/usr/bin/ld\" --hash-style=both --build-id --eh-frame-hdr -m elf_x86_64 -dynamic-linker /lib64/ld-linux-x86-64.so.2 -o a.out /usr/bin/../lib/gcc/x86_64-linux-gnu/6.3.0/../../../x86_64-linux-gnu/crt1.o /usr/bin/../lib/gcc/x86_64-linux-gnu/6.3.0/../../../x86_64-linux-gnu/crti.o /usr/bin/../lib/gcc/x86_64-linux-gnu/6.3.0/crtbegin.o -L/usr/bin/../lib/gcc/x86_64-linux-gnu/6.3.0 -L/usr/bin/../lib/gcc/x86_64-linux-gnu/6.3.0/../../../x86_64-linux-gnu -L/lib/x86_64-linux-gnu -L/lib/../lib64 -L/usr/lib/x86_64-linux-gnu -L/usr/bin/../lib/gcc/x86_64-linux-gnu/6.3.0/../../.. -L/usr/lib/llvm-3.8/bin/../lib -L/lib -L/usr/lib a.o b.o -lgcc --as-needed -lgcc_s --no-as-needed -lc -lgcc --as-needed -lgcc_s --no-as-needed /usr/bin/../lib/gcc/x86_64-linux-gnu/6.3.0/crtend.o /usr/bin/../lib/gcc/x86_64-linux-gnu/6.3.0/../../../x86_64-linux-gnu/crtn.o\r\n"
     ]
    }
   ],
   "source": [
    "! clang -v a.o b.o 2>&1 | grep ld"
   ]
  },
  {
   "cell_type": "code",
   "execution_count": 21,
   "metadata": {
    "collapsed": false,
    "deletable": true,
    "editable": true,
    "slideshow": {
     "slide_type": "fragment"
    }
   },
   "outputs": [
    {
     "name": "stdout",
     "output_type": "stream",
     "text": [
      "Hello 1!\r\n"
     ]
    }
   ],
   "source": [
    "! ./a.out 1"
   ]
  },
  {
   "cell_type": "markdown",
   "metadata": {
    "deletable": true,
    "editable": true,
    "slideshow": {
     "slide_type": "slide"
    }
   },
   "source": [
    "Comprendre l'*Abstract Syntax Tree*\n",
    "===================\n",
    "\n",
    "Jouons avec Python et son AST, plus facile que celui de C++"
   ]
  },
  {
   "cell_type": "code",
   "execution_count": 22,
   "metadata": {
    "collapsed": false,
    "deletable": true,
    "editable": true,
    "slideshow": {
     "slide_type": "fragment"
    }
   },
   "outputs": [
    {
     "name": "stdout",
     "output_type": "stream",
     "text": [
      "<_ast.Module object at 0x7fc57063f750>\n"
     ]
    }
   ],
   "source": [
    "import ast\n",
    "tree = ast.parse(\"print(1)\")\n",
    "print(tree)"
   ]
  },
  {
   "cell_type": "code",
   "execution_count": 23,
   "metadata": {
    "collapsed": false,
    "deletable": true,
    "editable": true,
    "slideshow": {
     "slide_type": "fragment"
    }
   },
   "outputs": [
    {
     "data": {
      "text/plain": [
       "'Module(body=[Print(dest=None, values=[Num(n=1)], nl=True)])'"
      ]
     },
     "execution_count": 23,
     "metadata": {},
     "output_type": "execute_result"
    }
   ],
   "source": [
    "ast.dump(tree)"
   ]
  },
  {
   "cell_type": "code",
   "execution_count": 24,
   "metadata": {
    "collapsed": false,
    "deletable": true,
    "editable": true,
    "slideshow": {
     "slide_type": "fragment"
    }
   },
   "outputs": [
    {
     "name": "stdout",
     "output_type": "stream",
     "text": [
      "Module\n",
      "  Print\n",
      "    Num\n"
     ]
    }
   ],
   "source": [
    "import astdump\n",
    "astdump.indented(tree)"
   ]
  },
  {
   "cell_type": "markdown",
   "metadata": {
    "collapsed": true,
    "deletable": true,
    "editable": true,
    "slideshow": {
     "slide_type": "subslide"
    }
   },
   "source": [
    "Compilation de l'AST\n",
    "===========\n",
    "\n",
    "Passage d'une représentation proche du langage à une représentation proche de l'interpréteur."
   ]
  },
  {
   "cell_type": "code",
   "execution_count": 25,
   "metadata": {
    "collapsed": true,
    "deletable": true,
    "editable": true,
    "slideshow": {
     "slide_type": "fragment"
    }
   },
   "outputs": [],
   "source": [
    "code = compile(tree, '<>', 'exec')"
   ]
  },
  {
   "cell_type": "code",
   "execution_count": 26,
   "metadata": {
    "collapsed": false,
    "deletable": true,
    "editable": true,
    "slideshow": {
     "slide_type": "fragment"
    }
   },
   "outputs": [
    {
     "name": "stdout",
     "output_type": "stream",
     "text": [
      "1\n"
     ]
    }
   ],
   "source": [
    "eval(code)"
   ]
  },
  {
   "cell_type": "markdown",
   "metadata": {
    "deletable": true,
    "editable": true,
    "slideshow": {
     "slide_type": "subslide"
    }
   },
   "source": [
    "Inspection du bytecode\n",
    "=============\n",
    "\n",
    "CPython → Interpréteur à pile"
   ]
  },
  {
   "cell_type": "code",
   "execution_count": 27,
   "metadata": {
    "collapsed": false,
    "deletable": true,
    "editable": true
   },
   "outputs": [
    {
     "name": "stdout",
     "output_type": "stream",
     "text": [
      "  1           0 LOAD_CONST               0 (1)\n",
      "              3 PRINT_ITEM          \n",
      "              4 PRINT_NEWLINE       \n",
      "              5 LOAD_CONST               1 (None)\n",
      "              8 RETURN_VALUE        \n"
     ]
    }
   ],
   "source": [
    "import dis\n",
    "dis.dis(code)"
   ]
  },
  {
   "cell_type": "markdown",
   "metadata": {
    "deletable": true,
    "editable": true,
    "slideshow": {
     "slide_type": "subslide"
    }
   },
   "source": [
    "``(`` Aparté\n",
    "========\n",
    "\n",
    "D'après vous, quels sont les avantages et inconvénients d'une interpréteur à pile par rapport à un interpréteur à registre?"
   ]
  },
  {
   "cell_type": "markdown",
   "metadata": {
    "deletable": true,
    "editable": true,
    "slideshow": {
     "slide_type": "fragment"
    }
   },
   "source": [
    "Interpréteur à pile\n",
    "----------------------\n",
    "\n",
    "Facile de conception, peu d'optimisations"
   ]
  },
  {
   "cell_type": "markdown",
   "metadata": {
    "deletable": true,
    "editable": true,
    "slideshow": {
     "slide_type": "fragment"
    }
   },
   "source": [
    "Interpréteur à registre\n",
    "--------------------------\n",
    "\n",
    "Plus complexe (et pas seulement pour l'allocation de registre) mais permet de modéliser plus d'optimisations"
   ]
  },
  {
   "cell_type": "markdown",
   "metadata": {
    "deletable": true,
    "editable": true,
    "slideshow": {
     "slide_type": "subslide"
    }
   },
   "source": [
    "Game of Stack\n",
    "=======\n",
    "\n",
    "Écrire un interpréteur qui comprend les instructions suivantes :\n",
    "\n",
    "- ``PUSH <integer>`` qui ajoute ``<integer>`` au dessus de la pile\n",
    "- ``DUP`` qui duplique le dessus de la pile\n",
    "- ``ADD`` qui enlève les deux premiers éléments de la pile et ajoute ``S[0] + S[1]`` au dessus de la pile\n",
    "- ``MUL`` qui enlève les deux premiers éléments de la pile et ajoute ``S[0] * S[1]`` au dessus de la pile\n",
    "- ``READ`` qui lit un entier sur ``stdin`` et l'ajoute au dessus de la pile\n",
    "- ``WRITE`` qui dépile le premier élément de la pile et l'affiche sudr ``stdout``\n"
   ]
  },
  {
   "cell_type": "markdown",
   "metadata": {
    "deletable": true,
    "editable": true,
    "slideshow": {
     "slide_type": "subslide"
    }
   },
   "source": [
    "Par exemple :\n",
    "\n",
    "```\n",
    "0 READ\n",
    "1 DUP\n",
    "2 ADD\n",
    "3 WRITE\n",
    "```\n"
   ]
  },
  {
   "cell_type": "markdown",
   "metadata": {
    "deletable": true,
    "editable": true,
    "slideshow": {
     "slide_type": "subslide"
    }
   },
   "source": [
    "Introduisons maintenant une optmisation (de ouf !). Les deux séquences suivantes sont équivalentes :\n",
    "\n",
    "```\n",
    "PUSH 2\n",
    "MUL\n",
    "```\n",
    "\n",
    "et\n",
    "\n",
    "```\n",
    "DUP\n",
    "ADD\n",
    "```\n",
    "\n",
    "Ajoutez à votre interpréteur une passe qui effectue de qui s'avère être une *peephole optimisation* en transformant l'une en l'autre.\n"
   ]
  },
  {
   "cell_type": "markdown",
   "metadata": {
    "deletable": true,
    "editable": true,
    "slideshow": {
     "slide_type": "subslide"
    }
   },
   "source": [
    "Et maintenant, introduisez l'instruction\n",
    "\n",
    "```\n",
    "   JMP <INDEX>\n",
    "```\n",
    "\n",
    "Qui saute directement à la ``<INDEX>`` ième instruction.\n",
    "Quel impact cela a-t-il sur l'optimisation précédente ?"
   ]
  },
  {
   "cell_type": "markdown",
   "metadata": {
    "collapsed": true,
    "deletable": true,
    "editable": true,
    "slideshow": {
     "slide_type": "subslide"
    }
   },
   "source": [
    "Enfin, introduisez l'instruction\n",
    "\n",
    "```\n",
    "   JMP\n",
    "```\n",
    "\n",
    "Similaire à la précédente, mais qui lit la valeur de ``<INDEX>`` sur la pile (en la dépilant).\n",
    "Quel impact cela a-t-il sur l'optimisation précédente ?"
   ]
  },
  {
   "cell_type": "markdown",
   "metadata": {
    "deletable": true,
    "editable": true,
    "slideshow": {
     "slide_type": "subslide"
    }
   },
   "source": [
    "Fin de l'aparté ``)``\n",
    "=========="
   ]
  },
  {
   "cell_type": "markdown",
   "metadata": {
    "deletable": true,
    "editable": true,
    "slideshow": {
     "slide_type": "slide"
    }
   },
   "source": [
    "Continuons à jouer avec l'AST\n",
    "================\n",
    "\n",
    "L'AST Python peut être parcouru grâce à un **visiteur** (qui n'est pas né d'hier)\n",
    "\n",
    "À lire : https://docs.python.org/3/library/ast.html"
   ]
  },
  {
   "cell_type": "code",
   "execution_count": 29,
   "metadata": {
    "collapsed": false,
    "deletable": true,
    "editable": true
   },
   "outputs": [
    {
     "name": "stdout",
     "output_type": "stream",
     "text": [
      "1\n"
     ]
    }
   ],
   "source": [
    "class VisitIntegers(ast.NodeVisitor):\n",
    "    def visit_Num(self, node):\n",
    "        if isinstance(node.n, int):\n",
    "            print(node.n)\n",
    "\n",
    "VisitIntegers().visit(tree)"
   ]
  },
  {
   "cell_type": "markdown",
   "metadata": {
    "deletable": true,
    "editable": true,
    "slideshow": {
     "slide_type": "subslide"
    }
   },
   "source": [
    "Exo\n",
    "===\n",
    "\n",
    "Écrivez un visiteur qui va trouver tous les appels à la fonction ``open``"
   ]
  },
  {
   "cell_type": "markdown",
   "metadata": {
    "deletable": true,
    "editable": true,
    "slideshow": {
     "slide_type": "fragment"
    }
   },
   "source": [
    "Pourquoi est-ce en fait impossible en analyse statique ?"
   ]
  },
  {
   "cell_type": "markdown",
   "metadata": {
    "deletable": true,
    "editable": true,
    "slideshow": {
     "slide_type": "subslide"
    }
   },
   "source": [
    "En instrumentant\n",
    "=========\n",
    "\n",
    "Une sorte d'analyse dynamique ?"
   ]
  },
  {
   "cell_type": "code",
   "execution_count": 30,
   "metadata": {
    "collapsed": false,
    "deletable": true,
    "editable": true,
    "slideshow": {
     "slide_type": "fragment"
    }
   },
   "outputs": [
    {
     "name": "stdout",
     "output_type": "stream",
     "text": [
      "('hooked:', ('/dev/null',), {})\n"
     ]
    },
    {
     "data": {
      "text/plain": [
       "<open file '/dev/null', mode 'r' at 0x7fc57795e6f0>"
      ]
     },
     "execution_count": 30,
     "metadata": {},
     "output_type": "execute_result"
    }
   ],
   "source": [
    "import __builtin__\n",
    "real_open = __builtin__.open\n",
    "def myopen(*args, **kwargs):\n",
    "    print(\"hooked:\", args, kwargs)\n",
    "    return real_open(*args, **kwargs)\n",
    "__builtin__.open = myopen\n",
    "open(\"/dev/null\")"
   ]
  },
  {
   "cell_type": "code",
   "execution_count": 31,
   "metadata": {
    "collapsed": true,
    "deletable": true,
    "editable": true,
    "slideshow": {
     "slide_type": "fragment"
    }
   },
   "outputs": [],
   "source": [
    "__builtin__.open = real_open"
   ]
  },
  {
   "cell_type": "markdown",
   "metadata": {
    "deletable": true,
    "editable": true,
    "slideshow": {
     "slide_type": "subslide"
    }
   },
   "source": [
    "Conclusion\n",
    "======\n",
    "\n",
    "- Domaine très vaste dont on a à peine éffleuré la surface\n",
    "- Présent dans le quotidien de tout informaticien\n",
    "- Ouverture / question du jour : nouveau langage ou eDSL ?"
   ]
  }
 ],
 "metadata": {
  "celltoolbar": "Slideshow",
  "kernelspec": {
   "display_name": "Python 2",
   "language": "python",
   "name": "python2"
  },
  "language_info": {
   "codemirror_mode": {
    "name": "ipython",
    "version": 2
   },
   "file_extension": ".py",
   "mimetype": "text/x-python",
   "name": "python",
   "nbconvert_exporter": "python",
   "pygments_lexer": "ipython2",
   "version": "2.7.13"
  }
 },
 "nbformat": 4,
 "nbformat_minor": 0
}
