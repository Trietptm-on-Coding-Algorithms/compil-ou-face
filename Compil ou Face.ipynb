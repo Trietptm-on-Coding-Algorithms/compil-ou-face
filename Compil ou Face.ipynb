{
 "cells": [
  {
   "cell_type": "markdown",
   "metadata": {
    "slideshow": {
     "slide_type": "slide"
    }
   },
   "source": [
    "Compil ou Face\n",
    "========\n",
    "\n",
    "Notions de compilation pour le reverseur\n",
    "--------------------------------------------\n",
    "\n",
    "par *Serge Guelton*☘ et *Adrien Guinet*⚽\n",
    "\n",
    "☘ ``sguelton@quarkslab.com``\n",
    "\n",
    "⚽ ``aguinet@quarkslab.com``"
   ]
  },
  {
   "cell_type": "markdown",
   "metadata": {
    "slideshow": {
     "slide_type": "subslide"
    }
   },
   "source": [
    "``man sguelton``\n",
    "=========\n",
    "\n",
    "- Ingénieur R&D à Quarkslab, spécialisé en compilation (Python, LLVM)\n",
    "- Chercheur à Socié, Télécom Bretagne\n",
    "\n",
    "``man aguinet``\n",
    "=========\n",
    "\n",
    "- Ingénieur R&D à Quarkslab, spécialisé en tout"
   ]
  },
  {
   "cell_type": "markdown",
   "metadata": {
    "slideshow": {
     "slide_type": "subslide"
    }
   },
   "source": [
    "Ce Cours (il est long)\n",
    "============\n",
    "\n",
    "- Connaitre sa chaîne de compilation\n",
    "- Connaître son compilo\n",
    "- Connaitre sa chaîne de compilatio\n",
    "\n",
    "Cours et TP entrelacés"
   ]
  },
  {
   "cell_type": "code",
   "execution_count": null,
   "metadata": {
    "collapsed": true
   },
   "outputs": [],
   "source": []
  }
 ],
 "metadata": {
  "celltoolbar": "Slideshow",
  "kernelspec": {
   "display_name": "Python 3",
   "language": "python",
   "name": "python3"
  },
  "language_info": {
   "codemirror_mode": {
    "name": "ipython",
    "version": 3
   },
   "file_extension": ".py",
   "mimetype": "text/x-python",
   "name": "python",
   "nbconvert_exporter": "python",
   "pygments_lexer": "ipython3",
   "version": "3.4.4"
  }
 },
 "nbformat": 4,
 "nbformat_minor": 0
}
